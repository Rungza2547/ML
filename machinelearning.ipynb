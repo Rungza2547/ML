{
 "cells": [
  {
   "cell_type": "code",
   "execution_count": 1,
   "id": "1bfa969a",
   "metadata": {
    "_cell_guid": "b1076dfc-b9ad-4769-8c92-a6c4dae69d19",
    "_uuid": "8f2839f25d086af736a60e9eeb907d3b93b6e0e5",
    "execution": {
     "iopub.execute_input": "2025-06-13T03:29:15.576428Z",
     "iopub.status.busy": "2025-06-13T03:29:15.576029Z",
     "iopub.status.idle": "2025-06-13T03:29:17.553979Z",
     "shell.execute_reply": "2025-06-13T03:29:17.552755Z"
    },
    "papermill": {
     "duration": 1.988519,
     "end_time": "2025-06-13T03:29:17.555673",
     "exception": false,
     "start_time": "2025-06-13T03:29:15.567154",
     "status": "completed"
    },
    "tags": []
   },
   "outputs": [
    {
     "name": "stdout",
     "output_type": "stream",
     "text": [
      "/kaggle/input/extrovert-vs-introvert-behavior-data/personality_dataset.csv\n"
     ]
    }
   ],
   "source": [
    "# This Python 3 environment comes with many helpful analytics libraries installed\n",
    "# It is defined by the kaggle/python Docker image: https://github.com/kaggle/docker-python\n",
    "# For example, here's several helpful packages to load\n",
    "\n",
    "import numpy as np # linear algebra\n",
    "import pandas as pd # data processing, CSV file I/O (e.g. pd.read_csv)\n",
    "\n",
    "# Input data files are available in the read-only \"../input/\" directory\n",
    "# For example, running this (by clicking run or pressing Shift+Enter) will list all files under the input directory\n",
    "\n",
    "import os\n",
    "for dirname, _, filenames in os.walk('/kaggle/input'):\n",
    "    for filename in filenames:\n",
    "        print(os.path.join(dirname, filename))\n",
    "\n",
    "# You can write up to 20GB to the current directory (/kaggle/working/) that gets preserved as output when you create a version using \"Save & Run All\" \n",
    "# You can also write temporary files to /kaggle/temp/, but they won't be saved outside of the current session"
   ]
  },
  {
   "cell_type": "code",
   "execution_count": 2,
   "id": "a778566f",
   "metadata": {
    "execution": {
     "iopub.execute_input": "2025-06-13T03:29:17.572238Z",
     "iopub.status.busy": "2025-06-13T03:29:17.571634Z",
     "iopub.status.idle": "2025-06-13T03:29:17.576521Z",
     "shell.execute_reply": "2025-06-13T03:29:17.575703Z"
    },
    "papermill": {
     "duration": 0.015027,
     "end_time": "2025-06-13T03:29:17.578000",
     "exception": false,
     "start_time": "2025-06-13T03:29:17.562973",
     "status": "completed"
    },
    "tags": []
   },
   "outputs": [],
   "source": [
    "#closs warning\n",
    "def warn(*ards, **kwargs):\n",
    "    pass\n",
    "import warnings\n",
    "warnings.warn = warn"
   ]
  },
  {
   "cell_type": "code",
   "execution_count": 3,
   "id": "499287b4",
   "metadata": {
    "execution": {
     "iopub.execute_input": "2025-06-13T03:29:17.593027Z",
     "iopub.status.busy": "2025-06-13T03:29:17.592694Z",
     "iopub.status.idle": "2025-06-13T03:29:17.656930Z",
     "shell.execute_reply": "2025-06-13T03:29:17.655911Z"
    },
    "papermill": {
     "duration": 0.073657,
     "end_time": "2025-06-13T03:29:17.658440",
     "exception": false,
     "start_time": "2025-06-13T03:29:17.584783",
     "status": "completed"
    },
    "tags": []
   },
   "outputs": [
    {
     "name": "stderr",
     "output_type": "stream",
     "text": [
      "/usr/local/lib/python3.11/dist-packages/pandas/io/formats/format.py:1458: RuntimeWarning: invalid value encountered in greater\n",
      "  has_large_values = (abs_vals > 1e6).any()\n",
      "/usr/local/lib/python3.11/dist-packages/pandas/io/formats/format.py:1459: RuntimeWarning: invalid value encountered in less\n",
      "  has_small_values = ((abs_vals < 10 ** (-self.digits)) & (abs_vals > 0)).any()\n",
      "/usr/local/lib/python3.11/dist-packages/pandas/io/formats/format.py:1459: RuntimeWarning: invalid value encountered in greater\n",
      "  has_small_values = ((abs_vals < 10 ** (-self.digits)) & (abs_vals > 0)).any()\n"
     ]
    },
    {
     "data": {
      "text/html": [
       "<div>\n",
       "<style scoped>\n",
       "    .dataframe tbody tr th:only-of-type {\n",
       "        vertical-align: middle;\n",
       "    }\n",
       "\n",
       "    .dataframe tbody tr th {\n",
       "        vertical-align: top;\n",
       "    }\n",
       "\n",
       "    .dataframe thead th {\n",
       "        text-align: right;\n",
       "    }\n",
       "</style>\n",
       "<table border=\"1\" class=\"dataframe\">\n",
       "  <thead>\n",
       "    <tr style=\"text-align: right;\">\n",
       "      <th></th>\n",
       "      <th>Time_spent_Alone</th>\n",
       "      <th>Stage_fear</th>\n",
       "      <th>Social_event_attendance</th>\n",
       "      <th>Going_outside</th>\n",
       "      <th>Drained_after_socializing</th>\n",
       "      <th>Friends_circle_size</th>\n",
       "      <th>Post_frequency</th>\n",
       "      <th>Personality</th>\n",
       "    </tr>\n",
       "  </thead>\n",
       "  <tbody>\n",
       "    <tr>\n",
       "      <th>0</th>\n",
       "      <td>4.0</td>\n",
       "      <td>No</td>\n",
       "      <td>4.0</td>\n",
       "      <td>6.0</td>\n",
       "      <td>No</td>\n",
       "      <td>13.0</td>\n",
       "      <td>5.0</td>\n",
       "      <td>Extrovert</td>\n",
       "    </tr>\n",
       "    <tr>\n",
       "      <th>1</th>\n",
       "      <td>9.0</td>\n",
       "      <td>Yes</td>\n",
       "      <td>0.0</td>\n",
       "      <td>0.0</td>\n",
       "      <td>Yes</td>\n",
       "      <td>0.0</td>\n",
       "      <td>3.0</td>\n",
       "      <td>Introvert</td>\n",
       "    </tr>\n",
       "    <tr>\n",
       "      <th>2</th>\n",
       "      <td>9.0</td>\n",
       "      <td>Yes</td>\n",
       "      <td>1.0</td>\n",
       "      <td>2.0</td>\n",
       "      <td>Yes</td>\n",
       "      <td>5.0</td>\n",
       "      <td>2.0</td>\n",
       "      <td>Introvert</td>\n",
       "    </tr>\n",
       "    <tr>\n",
       "      <th>3</th>\n",
       "      <td>0.0</td>\n",
       "      <td>No</td>\n",
       "      <td>6.0</td>\n",
       "      <td>7.0</td>\n",
       "      <td>No</td>\n",
       "      <td>14.0</td>\n",
       "      <td>8.0</td>\n",
       "      <td>Extrovert</td>\n",
       "    </tr>\n",
       "    <tr>\n",
       "      <th>4</th>\n",
       "      <td>3.0</td>\n",
       "      <td>No</td>\n",
       "      <td>9.0</td>\n",
       "      <td>4.0</td>\n",
       "      <td>No</td>\n",
       "      <td>8.0</td>\n",
       "      <td>5.0</td>\n",
       "      <td>Extrovert</td>\n",
       "    </tr>\n",
       "    <tr>\n",
       "      <th>...</th>\n",
       "      <td>...</td>\n",
       "      <td>...</td>\n",
       "      <td>...</td>\n",
       "      <td>...</td>\n",
       "      <td>...</td>\n",
       "      <td>...</td>\n",
       "      <td>...</td>\n",
       "      <td>...</td>\n",
       "    </tr>\n",
       "    <tr>\n",
       "      <th>2895</th>\n",
       "      <td>3.0</td>\n",
       "      <td>No</td>\n",
       "      <td>7.0</td>\n",
       "      <td>6.0</td>\n",
       "      <td>No</td>\n",
       "      <td>6.0</td>\n",
       "      <td>6.0</td>\n",
       "      <td>Extrovert</td>\n",
       "    </tr>\n",
       "    <tr>\n",
       "      <th>2896</th>\n",
       "      <td>3.0</td>\n",
       "      <td>No</td>\n",
       "      <td>8.0</td>\n",
       "      <td>3.0</td>\n",
       "      <td>No</td>\n",
       "      <td>14.0</td>\n",
       "      <td>9.0</td>\n",
       "      <td>Extrovert</td>\n",
       "    </tr>\n",
       "    <tr>\n",
       "      <th>2897</th>\n",
       "      <td>4.0</td>\n",
       "      <td>Yes</td>\n",
       "      <td>1.0</td>\n",
       "      <td>1.0</td>\n",
       "      <td>Yes</td>\n",
       "      <td>4.0</td>\n",
       "      <td>0.0</td>\n",
       "      <td>Introvert</td>\n",
       "    </tr>\n",
       "    <tr>\n",
       "      <th>2898</th>\n",
       "      <td>11.0</td>\n",
       "      <td>Yes</td>\n",
       "      <td>1.0</td>\n",
       "      <td>NaN</td>\n",
       "      <td>Yes</td>\n",
       "      <td>2.0</td>\n",
       "      <td>0.0</td>\n",
       "      <td>Introvert</td>\n",
       "    </tr>\n",
       "    <tr>\n",
       "      <th>2899</th>\n",
       "      <td>3.0</td>\n",
       "      <td>No</td>\n",
       "      <td>6.0</td>\n",
       "      <td>6.0</td>\n",
       "      <td>No</td>\n",
       "      <td>6.0</td>\n",
       "      <td>9.0</td>\n",
       "      <td>Extrovert</td>\n",
       "    </tr>\n",
       "  </tbody>\n",
       "</table>\n",
       "<p>2900 rows × 8 columns</p>\n",
       "</div>"
      ],
      "text/plain": [
       "      Time_spent_Alone Stage_fear  Social_event_attendance  Going_outside  \\\n",
       "0                  4.0         No                      4.0            6.0   \n",
       "1                  9.0        Yes                      0.0            0.0   \n",
       "2                  9.0        Yes                      1.0            2.0   \n",
       "3                  0.0         No                      6.0            7.0   \n",
       "4                  3.0         No                      9.0            4.0   \n",
       "...                ...        ...                      ...            ...   \n",
       "2895               3.0         No                      7.0            6.0   \n",
       "2896               3.0         No                      8.0            3.0   \n",
       "2897               4.0        Yes                      1.0            1.0   \n",
       "2898              11.0        Yes                      1.0            NaN   \n",
       "2899               3.0         No                      6.0            6.0   \n",
       "\n",
       "     Drained_after_socializing  Friends_circle_size  Post_frequency  \\\n",
       "0                           No                 13.0             5.0   \n",
       "1                          Yes                  0.0             3.0   \n",
       "2                          Yes                  5.0             2.0   \n",
       "3                           No                 14.0             8.0   \n",
       "4                           No                  8.0             5.0   \n",
       "...                        ...                  ...             ...   \n",
       "2895                        No                  6.0             6.0   \n",
       "2896                        No                 14.0             9.0   \n",
       "2897                       Yes                  4.0             0.0   \n",
       "2898                       Yes                  2.0             0.0   \n",
       "2899                        No                  6.0             9.0   \n",
       "\n",
       "     Personality  \n",
       "0      Extrovert  \n",
       "1      Introvert  \n",
       "2      Introvert  \n",
       "3      Extrovert  \n",
       "4      Extrovert  \n",
       "...          ...  \n",
       "2895   Extrovert  \n",
       "2896   Extrovert  \n",
       "2897   Introvert  \n",
       "2898   Introvert  \n",
       "2899   Extrovert  \n",
       "\n",
       "[2900 rows x 8 columns]"
      ]
     },
     "execution_count": 3,
     "metadata": {},
     "output_type": "execute_result"
    }
   ],
   "source": [
    "df = pd.read_csv(\"/kaggle/input/extrovert-vs-introvert-behavior-data/personality_dataset.csv\", header=0)\n",
    "df"
   ]
  },
  {
   "cell_type": "code",
   "execution_count": 4,
   "id": "59194d07",
   "metadata": {
    "execution": {
     "iopub.execute_input": "2025-06-13T03:29:17.674129Z",
     "iopub.status.busy": "2025-06-13T03:29:17.673753Z",
     "iopub.status.idle": "2025-06-13T03:29:17.694988Z",
     "shell.execute_reply": "2025-06-13T03:29:17.693984Z"
    },
    "papermill": {
     "duration": 0.031185,
     "end_time": "2025-06-13T03:29:17.696569",
     "exception": false,
     "start_time": "2025-06-13T03:29:17.665384",
     "status": "completed"
    },
    "tags": []
   },
   "outputs": [
    {
     "data": {
      "text/html": [
       "<div>\n",
       "<style scoped>\n",
       "    .dataframe tbody tr th:only-of-type {\n",
       "        vertical-align: middle;\n",
       "    }\n",
       "\n",
       "    .dataframe tbody tr th {\n",
       "        vertical-align: top;\n",
       "    }\n",
       "\n",
       "    .dataframe thead th {\n",
       "        text-align: right;\n",
       "    }\n",
       "</style>\n",
       "<table border=\"1\" class=\"dataframe\">\n",
       "  <thead>\n",
       "    <tr style=\"text-align: right;\">\n",
       "      <th></th>\n",
       "      <th>Time_spent_Alone</th>\n",
       "      <th>Stage_fear</th>\n",
       "      <th>Social_event_attendance</th>\n",
       "      <th>Going_outside</th>\n",
       "      <th>Drained_after_socializing</th>\n",
       "      <th>Friends_circle_size</th>\n",
       "      <th>Post_frequency</th>\n",
       "    </tr>\n",
       "    <tr>\n",
       "      <th>Personality</th>\n",
       "      <th></th>\n",
       "      <th></th>\n",
       "      <th></th>\n",
       "      <th></th>\n",
       "      <th></th>\n",
       "      <th></th>\n",
       "      <th></th>\n",
       "    </tr>\n",
       "  </thead>\n",
       "  <tbody>\n",
       "    <tr>\n",
       "      <th>Extrovert</th>\n",
       "      <td>1457</td>\n",
       "      <td>1449</td>\n",
       "      <td>1463</td>\n",
       "      <td>1456</td>\n",
       "      <td>1473</td>\n",
       "      <td>1451</td>\n",
       "      <td>1458</td>\n",
       "    </tr>\n",
       "    <tr>\n",
       "      <th>Introvert</th>\n",
       "      <td>1380</td>\n",
       "      <td>1378</td>\n",
       "      <td>1375</td>\n",
       "      <td>1378</td>\n",
       "      <td>1375</td>\n",
       "      <td>1372</td>\n",
       "      <td>1377</td>\n",
       "    </tr>\n",
       "  </tbody>\n",
       "</table>\n",
       "</div>"
      ],
      "text/plain": [
       "             Time_spent_Alone  Stage_fear  Social_event_attendance  \\\n",
       "Personality                                                          \n",
       "Extrovert                1457        1449                     1463   \n",
       "Introvert                1380        1378                     1375   \n",
       "\n",
       "             Going_outside  Drained_after_socializing  Friends_circle_size  \\\n",
       "Personality                                                                  \n",
       "Extrovert             1456                       1473                 1451   \n",
       "Introvert             1378                       1375                 1372   \n",
       "\n",
       "             Post_frequency  \n",
       "Personality                  \n",
       "Extrovert              1458  \n",
       "Introvert              1377  "
      ]
     },
     "execution_count": 4,
     "metadata": {},
     "output_type": "execute_result"
    }
   ],
   "source": [
    "df.groupby(\"Personality\").count()"
   ]
  },
  {
   "cell_type": "markdown",
   "id": "579deb8b",
   "metadata": {
    "papermill": {
     "duration": 0.007374,
     "end_time": "2025-06-13T03:29:17.711337",
     "exception": false,
     "start_time": "2025-06-13T03:29:17.703963",
     "status": "completed"
    },
    "tags": []
   },
   "source": [
    "## Preprocessing"
   ]
  },
  {
   "cell_type": "code",
   "execution_count": 5,
   "id": "db9acbf4",
   "metadata": {
    "execution": {
     "iopub.execute_input": "2025-06-13T03:29:17.726601Z",
     "iopub.status.busy": "2025-06-13T03:29:17.726323Z",
     "iopub.status.idle": "2025-06-13T03:29:17.746281Z",
     "shell.execute_reply": "2025-06-13T03:29:17.745274Z"
    },
    "papermill": {
     "duration": 0.029143,
     "end_time": "2025-06-13T03:29:17.747584",
     "exception": false,
     "start_time": "2025-06-13T03:29:17.718441",
     "status": "completed"
    },
    "tags": []
   },
   "outputs": [
    {
     "name": "stdout",
     "output_type": "stream",
     "text": [
      "<class 'pandas.core.frame.DataFrame'>\n",
      "RangeIndex: 2900 entries, 0 to 2899\n",
      "Data columns (total 8 columns):\n",
      " #   Column                     Non-Null Count  Dtype  \n",
      "---  ------                     --------------  -----  \n",
      " 0   Time_spent_Alone           2837 non-null   float64\n",
      " 1   Stage_fear                 2827 non-null   object \n",
      " 2   Social_event_attendance    2838 non-null   float64\n",
      " 3   Going_outside              2834 non-null   float64\n",
      " 4   Drained_after_socializing  2848 non-null   object \n",
      " 5   Friends_circle_size        2823 non-null   float64\n",
      " 6   Post_frequency             2835 non-null   float64\n",
      " 7   Personality                2900 non-null   object \n",
      "dtypes: float64(5), object(3)\n",
      "memory usage: 181.4+ KB\n"
     ]
    }
   ],
   "source": [
    "df.info()"
   ]
  },
  {
   "cell_type": "code",
   "execution_count": 6,
   "id": "0730e266",
   "metadata": {
    "execution": {
     "iopub.execute_input": "2025-06-13T03:29:17.764101Z",
     "iopub.status.busy": "2025-06-13T03:29:17.763776Z",
     "iopub.status.idle": "2025-06-13T03:29:17.771791Z",
     "shell.execute_reply": "2025-06-13T03:29:17.770897Z"
    },
    "papermill": {
     "duration": 0.018879,
     "end_time": "2025-06-13T03:29:17.773661",
     "exception": false,
     "start_time": "2025-06-13T03:29:17.754782",
     "status": "completed"
    },
    "tags": []
   },
   "outputs": [
    {
     "data": {
      "text/plain": [
       "Time_spent_Alone             63\n",
       "Stage_fear                   73\n",
       "Social_event_attendance      62\n",
       "Going_outside                66\n",
       "Drained_after_socializing    52\n",
       "Friends_circle_size          77\n",
       "Post_frequency               65\n",
       "Personality                   0\n",
       "dtype: int64"
      ]
     },
     "execution_count": 6,
     "metadata": {},
     "output_type": "execute_result"
    }
   ],
   "source": [
    "df.isnull().sum()"
   ]
  },
  {
   "cell_type": "code",
   "execution_count": 7,
   "id": "e34549c8",
   "metadata": {
    "execution": {
     "iopub.execute_input": "2025-06-13T03:29:17.789955Z",
     "iopub.status.busy": "2025-06-13T03:29:17.789568Z",
     "iopub.status.idle": "2025-06-13T03:29:17.799627Z",
     "shell.execute_reply": "2025-06-13T03:29:17.798806Z"
    },
    "papermill": {
     "duration": 0.020031,
     "end_time": "2025-06-13T03:29:17.801369",
     "exception": false,
     "start_time": "2025-06-13T03:29:17.781338",
     "status": "completed"
    },
    "tags": []
   },
   "outputs": [
    {
     "data": {
      "text/plain": [
       "Time_spent_Alone             0\n",
       "Stage_fear                   0\n",
       "Social_event_attendance      0\n",
       "Going_outside                0\n",
       "Drained_after_socializing    0\n",
       "Friends_circle_size          0\n",
       "Post_frequency               0\n",
       "Personality                  0\n",
       "dtype: int64"
      ]
     },
     "execution_count": 7,
     "metadata": {},
     "output_type": "execute_result"
    }
   ],
   "source": [
    "df_clean = df.dropna()\n",
    "df_clean.isnull().sum()"
   ]
  },
  {
   "cell_type": "code",
   "execution_count": 8,
   "id": "d70d9ead",
   "metadata": {
    "execution": {
     "iopub.execute_input": "2025-06-13T03:29:17.817615Z",
     "iopub.status.busy": "2025-06-13T03:29:17.817333Z",
     "iopub.status.idle": "2025-06-13T03:29:17.830209Z",
     "shell.execute_reply": "2025-06-13T03:29:17.829254Z"
    },
    "papermill": {
     "duration": 0.022679,
     "end_time": "2025-06-13T03:29:17.831864",
     "exception": false,
     "start_time": "2025-06-13T03:29:17.809185",
     "status": "completed"
    },
    "tags": []
   },
   "outputs": [
    {
     "data": {
      "text/html": [
       "<div>\n",
       "<style scoped>\n",
       "    .dataframe tbody tr th:only-of-type {\n",
       "        vertical-align: middle;\n",
       "    }\n",
       "\n",
       "    .dataframe tbody tr th {\n",
       "        vertical-align: top;\n",
       "    }\n",
       "\n",
       "    .dataframe thead th {\n",
       "        text-align: right;\n",
       "    }\n",
       "</style>\n",
       "<table border=\"1\" class=\"dataframe\">\n",
       "  <thead>\n",
       "    <tr style=\"text-align: right;\">\n",
       "      <th></th>\n",
       "      <th>Time_spent_Alone</th>\n",
       "      <th>Stage_fear</th>\n",
       "      <th>Social_event_attendance</th>\n",
       "      <th>Going_outside</th>\n",
       "      <th>Drained_after_socializing</th>\n",
       "      <th>Friends_circle_size</th>\n",
       "      <th>Post_frequency</th>\n",
       "    </tr>\n",
       "    <tr>\n",
       "      <th>Personality</th>\n",
       "      <th></th>\n",
       "      <th></th>\n",
       "      <th></th>\n",
       "      <th></th>\n",
       "      <th></th>\n",
       "      <th></th>\n",
       "      <th></th>\n",
       "    </tr>\n",
       "  </thead>\n",
       "  <tbody>\n",
       "    <tr>\n",
       "      <th>Extrovert</th>\n",
       "      <td>1274</td>\n",
       "      <td>1274</td>\n",
       "      <td>1274</td>\n",
       "      <td>1274</td>\n",
       "      <td>1274</td>\n",
       "      <td>1274</td>\n",
       "      <td>1274</td>\n",
       "    </tr>\n",
       "    <tr>\n",
       "      <th>Introvert</th>\n",
       "      <td>1203</td>\n",
       "      <td>1203</td>\n",
       "      <td>1203</td>\n",
       "      <td>1203</td>\n",
       "      <td>1203</td>\n",
       "      <td>1203</td>\n",
       "      <td>1203</td>\n",
       "    </tr>\n",
       "  </tbody>\n",
       "</table>\n",
       "</div>"
      ],
      "text/plain": [
       "             Time_spent_Alone  Stage_fear  Social_event_attendance  \\\n",
       "Personality                                                          \n",
       "Extrovert                1274        1274                     1274   \n",
       "Introvert                1203        1203                     1203   \n",
       "\n",
       "             Going_outside  Drained_after_socializing  Friends_circle_size  \\\n",
       "Personality                                                                  \n",
       "Extrovert             1274                       1274                 1274   \n",
       "Introvert             1203                       1203                 1203   \n",
       "\n",
       "             Post_frequency  \n",
       "Personality                  \n",
       "Extrovert              1274  \n",
       "Introvert              1203  "
      ]
     },
     "execution_count": 8,
     "metadata": {},
     "output_type": "execute_result"
    }
   ],
   "source": [
    "df_clean.groupby(\"Personality\").count()"
   ]
  },
  {
   "cell_type": "markdown",
   "id": "74cdc98f",
   "metadata": {
    "papermill": {
     "duration": 0.007129,
     "end_time": "2025-06-13T03:29:17.846584",
     "exception": false,
     "start_time": "2025-06-13T03:29:17.839455",
     "status": "completed"
    },
    "tags": []
   },
   "source": [
    "ข้อมูลค่อนข้าง balance"
   ]
  },
  {
   "cell_type": "code",
   "execution_count": 9,
   "id": "e623c918",
   "metadata": {
    "execution": {
     "iopub.execute_input": "2025-06-13T03:29:17.863638Z",
     "iopub.status.busy": "2025-06-13T03:29:17.863184Z",
     "iopub.status.idle": "2025-06-13T03:29:17.882209Z",
     "shell.execute_reply": "2025-06-13T03:29:17.881287Z"
    },
    "papermill": {
     "duration": 0.028827,
     "end_time": "2025-06-13T03:29:17.883542",
     "exception": false,
     "start_time": "2025-06-13T03:29:17.854715",
     "status": "completed"
    },
    "tags": []
   },
   "outputs": [
    {
     "data": {
      "text/html": [
       "<div>\n",
       "<style scoped>\n",
       "    .dataframe tbody tr th:only-of-type {\n",
       "        vertical-align: middle;\n",
       "    }\n",
       "\n",
       "    .dataframe tbody tr th {\n",
       "        vertical-align: top;\n",
       "    }\n",
       "\n",
       "    .dataframe thead th {\n",
       "        text-align: right;\n",
       "    }\n",
       "</style>\n",
       "<table border=\"1\" class=\"dataframe\">\n",
       "  <thead>\n",
       "    <tr style=\"text-align: right;\">\n",
       "      <th></th>\n",
       "      <th>Time_spent_Alone</th>\n",
       "      <th>Stage_fear</th>\n",
       "      <th>Social_event_attendance</th>\n",
       "      <th>Going_outside</th>\n",
       "      <th>Drained_after_socializing</th>\n",
       "      <th>Friends_circle_size</th>\n",
       "      <th>Post_frequency</th>\n",
       "      <th>Personality</th>\n",
       "    </tr>\n",
       "  </thead>\n",
       "  <tbody>\n",
       "    <tr>\n",
       "      <th>0</th>\n",
       "      <td>4.0</td>\n",
       "      <td>0</td>\n",
       "      <td>4.0</td>\n",
       "      <td>6.0</td>\n",
       "      <td>0</td>\n",
       "      <td>13.0</td>\n",
       "      <td>5.0</td>\n",
       "      <td>0</td>\n",
       "    </tr>\n",
       "    <tr>\n",
       "      <th>1</th>\n",
       "      <td>9.0</td>\n",
       "      <td>1</td>\n",
       "      <td>0.0</td>\n",
       "      <td>0.0</td>\n",
       "      <td>1</td>\n",
       "      <td>0.0</td>\n",
       "      <td>3.0</td>\n",
       "      <td>1</td>\n",
       "    </tr>\n",
       "    <tr>\n",
       "      <th>2</th>\n",
       "      <td>9.0</td>\n",
       "      <td>1</td>\n",
       "      <td>1.0</td>\n",
       "      <td>2.0</td>\n",
       "      <td>1</td>\n",
       "      <td>5.0</td>\n",
       "      <td>2.0</td>\n",
       "      <td>1</td>\n",
       "    </tr>\n",
       "    <tr>\n",
       "      <th>3</th>\n",
       "      <td>0.0</td>\n",
       "      <td>0</td>\n",
       "      <td>6.0</td>\n",
       "      <td>7.0</td>\n",
       "      <td>0</td>\n",
       "      <td>14.0</td>\n",
       "      <td>8.0</td>\n",
       "      <td>0</td>\n",
       "    </tr>\n",
       "    <tr>\n",
       "      <th>4</th>\n",
       "      <td>3.0</td>\n",
       "      <td>0</td>\n",
       "      <td>9.0</td>\n",
       "      <td>4.0</td>\n",
       "      <td>0</td>\n",
       "      <td>8.0</td>\n",
       "      <td>5.0</td>\n",
       "      <td>0</td>\n",
       "    </tr>\n",
       "    <tr>\n",
       "      <th>...</th>\n",
       "      <td>...</td>\n",
       "      <td>...</td>\n",
       "      <td>...</td>\n",
       "      <td>...</td>\n",
       "      <td>...</td>\n",
       "      <td>...</td>\n",
       "      <td>...</td>\n",
       "      <td>...</td>\n",
       "    </tr>\n",
       "    <tr>\n",
       "      <th>2892</th>\n",
       "      <td>9.0</td>\n",
       "      <td>1</td>\n",
       "      <td>2.0</td>\n",
       "      <td>0.0</td>\n",
       "      <td>1</td>\n",
       "      <td>1.0</td>\n",
       "      <td>2.0</td>\n",
       "      <td>1</td>\n",
       "    </tr>\n",
       "    <tr>\n",
       "      <th>2895</th>\n",
       "      <td>3.0</td>\n",
       "      <td>0</td>\n",
       "      <td>7.0</td>\n",
       "      <td>6.0</td>\n",
       "      <td>0</td>\n",
       "      <td>6.0</td>\n",
       "      <td>6.0</td>\n",
       "      <td>0</td>\n",
       "    </tr>\n",
       "    <tr>\n",
       "      <th>2896</th>\n",
       "      <td>3.0</td>\n",
       "      <td>0</td>\n",
       "      <td>8.0</td>\n",
       "      <td>3.0</td>\n",
       "      <td>0</td>\n",
       "      <td>14.0</td>\n",
       "      <td>9.0</td>\n",
       "      <td>0</td>\n",
       "    </tr>\n",
       "    <tr>\n",
       "      <th>2897</th>\n",
       "      <td>4.0</td>\n",
       "      <td>1</td>\n",
       "      <td>1.0</td>\n",
       "      <td>1.0</td>\n",
       "      <td>1</td>\n",
       "      <td>4.0</td>\n",
       "      <td>0.0</td>\n",
       "      <td>1</td>\n",
       "    </tr>\n",
       "    <tr>\n",
       "      <th>2899</th>\n",
       "      <td>3.0</td>\n",
       "      <td>0</td>\n",
       "      <td>6.0</td>\n",
       "      <td>6.0</td>\n",
       "      <td>0</td>\n",
       "      <td>6.0</td>\n",
       "      <td>9.0</td>\n",
       "      <td>0</td>\n",
       "    </tr>\n",
       "  </tbody>\n",
       "</table>\n",
       "<p>2477 rows × 8 columns</p>\n",
       "</div>"
      ],
      "text/plain": [
       "      Time_spent_Alone  Stage_fear  Social_event_attendance  Going_outside  \\\n",
       "0                  4.0           0                      4.0            6.0   \n",
       "1                  9.0           1                      0.0            0.0   \n",
       "2                  9.0           1                      1.0            2.0   \n",
       "3                  0.0           0                      6.0            7.0   \n",
       "4                  3.0           0                      9.0            4.0   \n",
       "...                ...         ...                      ...            ...   \n",
       "2892               9.0           1                      2.0            0.0   \n",
       "2895               3.0           0                      7.0            6.0   \n",
       "2896               3.0           0                      8.0            3.0   \n",
       "2897               4.0           1                      1.0            1.0   \n",
       "2899               3.0           0                      6.0            6.0   \n",
       "\n",
       "      Drained_after_socializing  Friends_circle_size  Post_frequency  \\\n",
       "0                             0                 13.0             5.0   \n",
       "1                             1                  0.0             3.0   \n",
       "2                             1                  5.0             2.0   \n",
       "3                             0                 14.0             8.0   \n",
       "4                             0                  8.0             5.0   \n",
       "...                         ...                  ...             ...   \n",
       "2892                          1                  1.0             2.0   \n",
       "2895                          0                  6.0             6.0   \n",
       "2896                          0                 14.0             9.0   \n",
       "2897                          1                  4.0             0.0   \n",
       "2899                          0                  6.0             9.0   \n",
       "\n",
       "      Personality  \n",
       "0               0  \n",
       "1               1  \n",
       "2               1  \n",
       "3               0  \n",
       "4               0  \n",
       "...           ...  \n",
       "2892            1  \n",
       "2895            0  \n",
       "2896            0  \n",
       "2897            1  \n",
       "2899            0  \n",
       "\n",
       "[2477 rows x 8 columns]"
      ]
     },
     "execution_count": 9,
     "metadata": {},
     "output_type": "execute_result"
    }
   ],
   "source": [
    "# convert type\n",
    "str_col = ['Stage_fear', 'Drained_after_socializing', 'Personality']\n",
    "for item in str_col:\n",
    "    df_clean[item] = pd.factorize(df_clean[item])[0]\n",
    "df_clean"
   ]
  },
  {
   "cell_type": "code",
   "execution_count": 10,
   "id": "8364766a",
   "metadata": {
    "execution": {
     "iopub.execute_input": "2025-06-13T03:29:17.900245Z",
     "iopub.status.busy": "2025-06-13T03:29:17.899730Z",
     "iopub.status.idle": "2025-06-13T03:29:17.911339Z",
     "shell.execute_reply": "2025-06-13T03:29:17.910288Z"
    },
    "papermill": {
     "duration": 0.021567,
     "end_time": "2025-06-13T03:29:17.912858",
     "exception": false,
     "start_time": "2025-06-13T03:29:17.891291",
     "status": "completed"
    },
    "tags": []
   },
   "outputs": [
    {
     "name": "stdout",
     "output_type": "stream",
     "text": [
      "<class 'pandas.core.frame.DataFrame'>\n",
      "Index: 2477 entries, 0 to 2899\n",
      "Data columns (total 8 columns):\n",
      " #   Column                     Non-Null Count  Dtype  \n",
      "---  ------                     --------------  -----  \n",
      " 0   Time_spent_Alone           2477 non-null   float64\n",
      " 1   Stage_fear                 2477 non-null   int64  \n",
      " 2   Social_event_attendance    2477 non-null   float64\n",
      " 3   Going_outside              2477 non-null   float64\n",
      " 4   Drained_after_socializing  2477 non-null   int64  \n",
      " 5   Friends_circle_size        2477 non-null   float64\n",
      " 6   Post_frequency             2477 non-null   float64\n",
      " 7   Personality                2477 non-null   int64  \n",
      "dtypes: float64(5), int64(3)\n",
      "memory usage: 174.2 KB\n"
     ]
    }
   ],
   "source": [
    "df_clean.info()"
   ]
  },
  {
   "cell_type": "markdown",
   "id": "c56a24d8",
   "metadata": {
    "papermill": {
     "duration": 0.007287,
     "end_time": "2025-06-13T03:29:17.927991",
     "exception": false,
     "start_time": "2025-06-13T03:29:17.920704",
     "status": "completed"
    },
    "tags": []
   },
   "source": [
    "## Split Xall , yall"
   ]
  },
  {
   "cell_type": "code",
   "execution_count": 11,
   "id": "627b519d",
   "metadata": {
    "execution": {
     "iopub.execute_input": "2025-06-13T03:29:17.950358Z",
     "iopub.status.busy": "2025-06-13T03:29:17.949473Z",
     "iopub.status.idle": "2025-06-13T03:29:17.955878Z",
     "shell.execute_reply": "2025-06-13T03:29:17.954992Z"
    },
    "papermill": {
     "duration": 0.020609,
     "end_time": "2025-06-13T03:29:17.957434",
     "exception": false,
     "start_time": "2025-06-13T03:29:17.936825",
     "status": "completed"
    },
    "tags": []
   },
   "outputs": [],
   "source": [
    "# แยก features (X) และ target (y)\n",
    "Xall = df_clean.drop(['Personality'], axis=1).values\n",
    "yall = df_clean['Personality'].values"
   ]
  },
  {
   "cell_type": "code",
   "execution_count": 12,
   "id": "b33e9f23",
   "metadata": {
    "execution": {
     "iopub.execute_input": "2025-06-13T03:29:17.980855Z",
     "iopub.status.busy": "2025-06-13T03:29:17.980143Z",
     "iopub.status.idle": "2025-06-13T03:29:17.986485Z",
     "shell.execute_reply": "2025-06-13T03:29:17.985557Z"
    },
    "papermill": {
     "duration": 0.020328,
     "end_time": "2025-06-13T03:29:17.988082",
     "exception": false,
     "start_time": "2025-06-13T03:29:17.967754",
     "status": "completed"
    },
    "tags": []
   },
   "outputs": [
    {
     "name": "stdout",
     "output_type": "stream",
     "text": [
      "Xall Shape (2477, 7) feature ที่ใช้เป็น input ในโมเดล drop 1 เหลือ 7\n",
      "yall Shape (2477,) target หรือ label ที่ต้องการพยากรณ์ // ตัวแปร yall ให้เก็บค่าจากคอลัมน์ 'Personality'\n"
     ]
    }
   ],
   "source": [
    "print(\"Xall Shape\", Xall.shape, \"feature ที่ใช้เป็น input ในโมเดล drop 1 เหลือ 7\") \n",
    "print(\"yall Shape\",yall.shape, \"target หรือ label ที่ต้องการพยากรณ์ // ตัวแปร yall ให้เก็บค่าจากคอลัมน์ 'Personality'\")"
   ]
  },
  {
   "cell_type": "code",
   "execution_count": 13,
   "id": "b96bd7fa",
   "metadata": {
    "execution": {
     "iopub.execute_input": "2025-06-13T03:29:18.009948Z",
     "iopub.status.busy": "2025-06-13T03:29:18.009556Z",
     "iopub.status.idle": "2025-06-13T03:29:18.016180Z",
     "shell.execute_reply": "2025-06-13T03:29:18.015430Z"
    },
    "papermill": {
     "duration": 0.020854,
     "end_time": "2025-06-13T03:29:18.017476",
     "exception": false,
     "start_time": "2025-06-13T03:29:17.996622",
     "status": "completed"
    },
    "tags": []
   },
   "outputs": [
    {
     "data": {
      "text/plain": [
       "[1203, 1274]"
      ]
     },
     "execution_count": 13,
     "metadata": {},
     "output_type": "execute_result"
    }
   ],
   "source": [
    "[sum(yall==1), sum(yall==0)] #sum num of 1 = Extrovert, 0 = Introvert"
   ]
  },
  {
   "cell_type": "markdown",
   "id": "dc4d4e3c",
   "metadata": {
    "papermill": {
     "duration": 0.007836,
     "end_time": "2025-06-13T03:29:18.033314",
     "exception": false,
     "start_time": "2025-06-13T03:29:18.025478",
     "status": "completed"
    },
    "tags": []
   },
   "source": [
    "## Train Test Spilt"
   ]
  },
  {
   "cell_type": "code",
   "execution_count": 14,
   "id": "d50e9cbb",
   "metadata": {
    "execution": {
     "iopub.execute_input": "2025-06-13T03:29:18.050566Z",
     "iopub.status.busy": "2025-06-13T03:29:18.049673Z",
     "iopub.status.idle": "2025-06-13T03:29:19.764727Z",
     "shell.execute_reply": "2025-06-13T03:29:19.763708Z"
    },
    "papermill": {
     "duration": 1.725334,
     "end_time": "2025-06-13T03:29:19.766444",
     "exception": false,
     "start_time": "2025-06-13T03:29:18.041110",
     "status": "completed"
    },
    "tags": []
   },
   "outputs": [],
   "source": [
    "from sklearn.model_selection import train_test_split\n",
    "X, Xt, y, yt = train_test_split(Xall, yall, test_size=0.25, random_state=0)"
   ]
  },
  {
   "cell_type": "code",
   "execution_count": 15,
   "id": "f2386918",
   "metadata": {
    "execution": {
     "iopub.execute_input": "2025-06-13T03:29:19.783675Z",
     "iopub.status.busy": "2025-06-13T03:29:19.783224Z",
     "iopub.status.idle": "2025-06-13T03:29:19.790348Z",
     "shell.execute_reply": "2025-06-13T03:29:19.789473Z"
    },
    "papermill": {
     "duration": 0.017405,
     "end_time": "2025-06-13T03:29:19.791797",
     "exception": false,
     "start_time": "2025-06-13T03:29:19.774392",
     "status": "completed"
    },
    "tags": []
   },
   "outputs": [
    {
     "data": {
      "text/plain": [
       "[907, 950, 296, 324]"
      ]
     },
     "execution_count": 15,
     "metadata": {},
     "output_type": "execute_result"
    }
   ],
   "source": [
    "[sum(y==1), sum(y==0), sum(yt==1), sum(yt==0)]"
   ]
  },
  {
   "cell_type": "markdown",
   "id": "ef1ead6c",
   "metadata": {
    "papermill": {
     "duration": 0.007467,
     "end_time": "2025-06-13T03:29:19.807250",
     "exception": false,
     "start_time": "2025-06-13T03:29:19.799783",
     "status": "completed"
    },
    "tags": []
   },
   "source": [
    "## Normalization"
   ]
  },
  {
   "cell_type": "code",
   "execution_count": 16,
   "id": "8b618b5c",
   "metadata": {
    "execution": {
     "iopub.execute_input": "2025-06-13T03:29:19.824603Z",
     "iopub.status.busy": "2025-06-13T03:29:19.823740Z",
     "iopub.status.idle": "2025-06-13T03:29:19.830362Z",
     "shell.execute_reply": "2025-06-13T03:29:19.829478Z"
    },
    "papermill": {
     "duration": 0.016887,
     "end_time": "2025-06-13T03:29:19.831934",
     "exception": false,
     "start_time": "2025-06-13T03:29:19.815047",
     "status": "completed"
    },
    "tags": []
   },
   "outputs": [],
   "source": [
    "#Normalization ให้เป็น 1 กับ 0\n",
    "\n",
    "from sklearn.preprocessing import MinMaxScaler\n",
    "scl = MinMaxScaler().fit(X)\n",
    "X = scl.transform(X)\n",
    "Xt = scl.transform(Xt)"
   ]
  },
  {
   "cell_type": "code",
   "execution_count": 17,
   "id": "f60b7112",
   "metadata": {
    "execution": {
     "iopub.execute_input": "2025-06-13T03:29:19.849876Z",
     "iopub.status.busy": "2025-06-13T03:29:19.849038Z",
     "iopub.status.idle": "2025-06-13T03:29:19.855824Z",
     "shell.execute_reply": "2025-06-13T03:29:19.854982Z"
    },
    "papermill": {
     "duration": 0.017465,
     "end_time": "2025-06-13T03:29:19.857325",
     "exception": false,
     "start_time": "2025-06-13T03:29:19.839860",
     "status": "completed"
    },
    "tags": []
   },
   "outputs": [
    {
     "data": {
      "text/plain": [
       "(array([1., 1., 1., 1., 1., 1., 1.]), array([0., 0., 0., 0., 0., 0., 0.]))"
      ]
     },
     "execution_count": 17,
     "metadata": {},
     "output_type": "execute_result"
    }
   ],
   "source": [
    "np.max(X,axis=0), np.min(X, axis=0)"
   ]
  },
  {
   "cell_type": "code",
   "execution_count": 18,
   "id": "223a1214",
   "metadata": {
    "execution": {
     "iopub.execute_input": "2025-06-13T03:29:19.940515Z",
     "iopub.status.busy": "2025-06-13T03:29:19.940226Z",
     "iopub.status.idle": "2025-06-13T03:29:19.946470Z",
     "shell.execute_reply": "2025-06-13T03:29:19.945580Z"
    },
    "papermill": {
     "duration": 0.017142,
     "end_time": "2025-06-13T03:29:19.947944",
     "exception": false,
     "start_time": "2025-06-13T03:29:19.930802",
     "status": "completed"
    },
    "tags": []
   },
   "outputs": [
    {
     "data": {
      "text/plain": [
       "array([1., 1., 1., 1., 1., 1., 1.])"
      ]
     },
     "execution_count": 18,
     "metadata": {},
     "output_type": "execute_result"
    }
   ],
   "source": [
    "np.max(Xt, axis=0)"
   ]
  },
  {
   "cell_type": "code",
   "execution_count": 19,
   "id": "d0bdee22",
   "metadata": {
    "execution": {
     "iopub.execute_input": "2025-06-13T03:29:19.965401Z",
     "iopub.status.busy": "2025-06-13T03:29:19.965102Z",
     "iopub.status.idle": "2025-06-13T03:29:19.971738Z",
     "shell.execute_reply": "2025-06-13T03:29:19.970824Z"
    },
    "papermill": {
     "duration": 0.017194,
     "end_time": "2025-06-13T03:29:19.973374",
     "exception": false,
     "start_time": "2025-06-13T03:29:19.956180",
     "status": "completed"
    },
    "tags": []
   },
   "outputs": [
    {
     "data": {
      "text/plain": [
       "array([0, 1])"
      ]
     },
     "execution_count": 19,
     "metadata": {},
     "output_type": "execute_result"
    }
   ],
   "source": [
    "np.unique(y)  #2 class : 0,1"
   ]
  },
  {
   "cell_type": "markdown",
   "id": "72c8760d",
   "metadata": {
    "papermill": {
     "duration": 0.008022,
     "end_time": "2025-06-13T03:29:19.990549",
     "exception": false,
     "start_time": "2025-06-13T03:29:19.982527",
     "status": "completed"
    },
    "tags": []
   },
   "source": [
    "## Model"
   ]
  },
  {
   "cell_type": "markdown",
   "id": "7a5342e3",
   "metadata": {
    "papermill": {
     "duration": 0.007709,
     "end_time": "2025-06-13T03:29:20.006357",
     "exception": false,
     "start_time": "2025-06-13T03:29:19.998648",
     "status": "completed"
    },
    "tags": []
   },
   "source": [
    "#### Calculate Only Test Accuracy"
   ]
  },
  {
   "cell_type": "code",
   "execution_count": 20,
   "id": "4ca8cd68",
   "metadata": {
    "execution": {
     "iopub.execute_input": "2025-06-13T03:29:20.023631Z",
     "iopub.status.busy": "2025-06-13T03:29:20.023347Z",
     "iopub.status.idle": "2025-06-13T03:29:20.210751Z",
     "shell.execute_reply": "2025-06-13T03:29:20.209870Z"
    },
    "papermill": {
     "duration": 0.19799,
     "end_time": "2025-06-13T03:29:20.212407",
     "exception": false,
     "start_time": "2025-06-13T03:29:20.014417",
     "status": "completed"
    },
    "tags": []
   },
   "outputs": [
    {
     "data": {
      "text/html": [
       "<style>#sk-container-id-1 {color: black;background-color: white;}#sk-container-id-1 pre{padding: 0;}#sk-container-id-1 div.sk-toggleable {background-color: white;}#sk-container-id-1 label.sk-toggleable__label {cursor: pointer;display: block;width: 100%;margin-bottom: 0;padding: 0.3em;box-sizing: border-box;text-align: center;}#sk-container-id-1 label.sk-toggleable__label-arrow:before {content: \"▸\";float: left;margin-right: 0.25em;color: #696969;}#sk-container-id-1 label.sk-toggleable__label-arrow:hover:before {color: black;}#sk-container-id-1 div.sk-estimator:hover label.sk-toggleable__label-arrow:before {color: black;}#sk-container-id-1 div.sk-toggleable__content {max-height: 0;max-width: 0;overflow: hidden;text-align: left;background-color: #f0f8ff;}#sk-container-id-1 div.sk-toggleable__content pre {margin: 0.2em;color: black;border-radius: 0.25em;background-color: #f0f8ff;}#sk-container-id-1 input.sk-toggleable__control:checked~div.sk-toggleable__content {max-height: 200px;max-width: 100%;overflow: auto;}#sk-container-id-1 input.sk-toggleable__control:checked~label.sk-toggleable__label-arrow:before {content: \"▾\";}#sk-container-id-1 div.sk-estimator input.sk-toggleable__control:checked~label.sk-toggleable__label {background-color: #d4ebff;}#sk-container-id-1 div.sk-label input.sk-toggleable__control:checked~label.sk-toggleable__label {background-color: #d4ebff;}#sk-container-id-1 input.sk-hidden--visually {border: 0;clip: rect(1px 1px 1px 1px);clip: rect(1px, 1px, 1px, 1px);height: 1px;margin: -1px;overflow: hidden;padding: 0;position: absolute;width: 1px;}#sk-container-id-1 div.sk-estimator {font-family: monospace;background-color: #f0f8ff;border: 1px dotted black;border-radius: 0.25em;box-sizing: border-box;margin-bottom: 0.5em;}#sk-container-id-1 div.sk-estimator:hover {background-color: #d4ebff;}#sk-container-id-1 div.sk-parallel-item::after {content: \"\";width: 100%;border-bottom: 1px solid gray;flex-grow: 1;}#sk-container-id-1 div.sk-label:hover label.sk-toggleable__label {background-color: #d4ebff;}#sk-container-id-1 div.sk-serial::before {content: \"\";position: absolute;border-left: 1px solid gray;box-sizing: border-box;top: 0;bottom: 0;left: 50%;z-index: 0;}#sk-container-id-1 div.sk-serial {display: flex;flex-direction: column;align-items: center;background-color: white;padding-right: 0.2em;padding-left: 0.2em;position: relative;}#sk-container-id-1 div.sk-item {position: relative;z-index: 1;}#sk-container-id-1 div.sk-parallel {display: flex;align-items: stretch;justify-content: center;background-color: white;position: relative;}#sk-container-id-1 div.sk-item::before, #sk-container-id-1 div.sk-parallel-item::before {content: \"\";position: absolute;border-left: 1px solid gray;box-sizing: border-box;top: 0;bottom: 0;left: 50%;z-index: -1;}#sk-container-id-1 div.sk-parallel-item {display: flex;flex-direction: column;z-index: 1;position: relative;background-color: white;}#sk-container-id-1 div.sk-parallel-item:first-child::after {align-self: flex-end;width: 50%;}#sk-container-id-1 div.sk-parallel-item:last-child::after {align-self: flex-start;width: 50%;}#sk-container-id-1 div.sk-parallel-item:only-child::after {width: 0;}#sk-container-id-1 div.sk-dashed-wrapped {border: 1px dashed gray;margin: 0 0.4em 0.5em 0.4em;box-sizing: border-box;padding-bottom: 0.4em;background-color: white;}#sk-container-id-1 div.sk-label label {font-family: monospace;font-weight: bold;display: inline-block;line-height: 1.2em;}#sk-container-id-1 div.sk-label-container {text-align: center;}#sk-container-id-1 div.sk-container {/* jupyter's `normalize.less` sets `[hidden] { display: none; }` but bootstrap.min.css set `[hidden] { display: none !important; }` so we also need the `!important` here to be able to override the default hidden behavior on the sphinx rendered scikit-learn.org. See: https://github.com/scikit-learn/scikit-learn/issues/21755 */display: inline-block !important;position: relative;}#sk-container-id-1 div.sk-text-repr-fallback {display: none;}</style><div id=\"sk-container-id-1\" class=\"sk-top-container\"><div class=\"sk-text-repr-fallback\"><pre>SVC(random_state=1)</pre><b>In a Jupyter environment, please rerun this cell to show the HTML representation or trust the notebook. <br />On GitHub, the HTML representation is unable to render, please try loading this page with nbviewer.org.</b></div><div class=\"sk-container\" hidden><div class=\"sk-item\"><div class=\"sk-estimator sk-toggleable\"><input class=\"sk-toggleable__control sk-hidden--visually\" id=\"sk-estimator-id-1\" type=\"checkbox\" checked><label for=\"sk-estimator-id-1\" class=\"sk-toggleable__label sk-toggleable__label-arrow\">SVC</label><div class=\"sk-toggleable__content\"><pre>SVC(random_state=1)</pre></div></div></div></div></div>"
      ],
      "text/plain": [
       "SVC(random_state=1)"
      ]
     },
     "execution_count": 20,
     "metadata": {},
     "output_type": "execute_result"
    }
   ],
   "source": [
    "from sklearn.svm import SVC\n",
    "clf = SVC(random_state=1)\n",
    "clf.fit(X,y) # คำสั่ง train model ; fit()"
   ]
  },
  {
   "cell_type": "code",
   "execution_count": 21,
   "id": "3f6340fe",
   "metadata": {
    "execution": {
     "iopub.execute_input": "2025-06-13T03:29:20.231134Z",
     "iopub.status.busy": "2025-06-13T03:29:20.230804Z",
     "iopub.status.idle": "2025-06-13T03:29:20.247865Z",
     "shell.execute_reply": "2025-06-13T03:29:20.247019Z"
    },
    "papermill": {
     "duration": 0.028303,
     "end_time": "2025-06-13T03:29:20.249614",
     "exception": false,
     "start_time": "2025-06-13T03:29:20.221311",
     "status": "completed"
    },
    "tags": []
   },
   "outputs": [],
   "source": [
    "yp = clf.predict(Xt) # ทำนาย แล้วเก็บไว้ใน yp"
   ]
  },
  {
   "cell_type": "code",
   "execution_count": 22,
   "id": "02778d0d",
   "metadata": {
    "execution": {
     "iopub.execute_input": "2025-06-13T03:29:20.268137Z",
     "iopub.status.busy": "2025-06-13T03:29:20.267584Z",
     "iopub.status.idle": "2025-06-13T03:29:20.273903Z",
     "shell.execute_reply": "2025-06-13T03:29:20.273032Z"
    },
    "papermill": {
     "duration": 0.01684,
     "end_time": "2025-06-13T03:29:20.275238",
     "exception": false,
     "start_time": "2025-06-13T03:29:20.258398",
     "status": "completed"
    },
    "tags": []
   },
   "outputs": [
    {
     "data": {
      "text/plain": [
       "0.9225806451612903"
      ]
     },
     "execution_count": 22,
     "metadata": {},
     "output_type": "execute_result"
    }
   ],
   "source": [
    "sum(yt==yp)/len(yt)  #วัดเปอร์เซ็นความแม่น %"
   ]
  },
  {
   "cell_type": "markdown",
   "id": "eaf34beb",
   "metadata": {
    "papermill": {
     "duration": 0.007989,
     "end_time": "2025-06-13T03:29:20.291541",
     "exception": false,
     "start_time": "2025-06-13T03:29:20.283552",
     "status": "completed"
    },
    "tags": []
   },
   "source": [
    "#### Using **Hold-Out** for  1. calculate **Training Accuracy**"
   ]
  },
  {
   "cell_type": "code",
   "execution_count": 23,
   "id": "498a4b2e",
   "metadata": {
    "execution": {
     "iopub.execute_input": "2025-06-13T03:29:20.309076Z",
     "iopub.status.busy": "2025-06-13T03:29:20.308737Z",
     "iopub.status.idle": "2025-06-13T03:29:20.315421Z",
     "shell.execute_reply": "2025-06-13T03:29:20.314675Z"
    },
    "papermill": {
     "duration": 0.017711,
     "end_time": "2025-06-13T03:29:20.317310",
     "exception": false,
     "start_time": "2025-06-13T03:29:20.299599",
     "status": "completed"
    },
    "tags": []
   },
   "outputs": [],
   "source": [
    "# Divide Train-Validation-Test // Hove out - Best Split แบ่งข้อมูลเป็น 80% ฝึก, 20% ทดสอบ\n",
    "\n",
    "from sklearn.model_selection import train_test_split\n",
    "X, Xt, y, yt = train_test_split(Xall, yall, test_size=0.2, random_state=0)\n",
    "X, Xv, y, yv = train_test_split(X, y, test_size=0.25, random_state=0)"
   ]
  },
  {
   "cell_type": "code",
   "execution_count": 24,
   "id": "81120c13",
   "metadata": {
    "execution": {
     "iopub.execute_input": "2025-06-13T03:29:20.335705Z",
     "iopub.status.busy": "2025-06-13T03:29:20.335400Z",
     "iopub.status.idle": "2025-06-13T03:29:20.341588Z",
     "shell.execute_reply": "2025-06-13T03:29:20.340749Z"
    },
    "papermill": {
     "duration": 0.017078,
     "end_time": "2025-06-13T03:29:20.343079",
     "exception": false,
     "start_time": "2025-06-13T03:29:20.326001",
     "status": "completed"
    },
    "tags": []
   },
   "outputs": [
    {
     "data": {
      "text/plain": [
       "[1485, 496, 496]"
      ]
     },
     "execution_count": 24,
     "metadata": {},
     "output_type": "execute_result"
    }
   ],
   "source": [
    "[len(y), len(yv), len(yt)]"
   ]
  },
  {
   "cell_type": "code",
   "execution_count": 25,
   "id": "9dddb31d",
   "metadata": {
    "execution": {
     "iopub.execute_input": "2025-06-13T03:29:20.361892Z",
     "iopub.status.busy": "2025-06-13T03:29:20.361535Z",
     "iopub.status.idle": "2025-06-13T03:29:20.412069Z",
     "shell.execute_reply": "2025-06-13T03:29:20.411122Z"
    },
    "papermill": {
     "duration": 0.061598,
     "end_time": "2025-06-13T03:29:20.413709",
     "exception": false,
     "start_time": "2025-06-13T03:29:20.352111",
     "status": "completed"
    },
    "tags": []
   },
   "outputs": [
    {
     "data": {
      "text/plain": [
       "0.9435483870967742"
      ]
     },
     "execution_count": 25,
     "metadata": {},
     "output_type": "execute_result"
    }
   ],
   "source": [
    "from sklearn.svm import SVC\n",
    "clf = SVC(random_state=1)\n",
    "clf.fit(X,y)\n",
    "yp = clf.predict(Xv)\n",
    "sum(yv==yp)/len(yv)"
   ]
  },
  {
   "cell_type": "markdown",
   "id": "f8451b95",
   "metadata": {
    "papermill": {
     "duration": 0.008262,
     "end_time": "2025-06-13T03:29:20.430659",
     "exception": false,
     "start_time": "2025-06-13T03:29:20.422397",
     "status": "completed"
    },
    "tags": []
   },
   "source": [
    "#### 2. Calculate **Test Accuracy**"
   ]
  },
  {
   "cell_type": "code",
   "execution_count": 26,
   "id": "0cbb5729",
   "metadata": {
    "execution": {
     "iopub.execute_input": "2025-06-13T03:29:20.450111Z",
     "iopub.status.busy": "2025-06-13T03:29:20.449086Z",
     "iopub.status.idle": "2025-06-13T03:29:20.497751Z",
     "shell.execute_reply": "2025-06-13T03:29:20.496672Z"
    },
    "papermill": {
     "duration": 0.060349,
     "end_time": "2025-06-13T03:29:20.499414",
     "exception": false,
     "start_time": "2025-06-13T03:29:20.439065",
     "status": "completed"
    },
    "tags": []
   },
   "outputs": [
    {
     "data": {
      "text/plain": [
       "0.9354838709677419"
      ]
     },
     "execution_count": 26,
     "metadata": {},
     "output_type": "execute_result"
    }
   ],
   "source": [
    "clf = SVC(random_state=1,C=1)\n",
    "clf.fit(X,y)\n",
    "yp = clf.predict(Xt)\n",
    "sum(yt==yp)/len(yt)"
   ]
  },
  {
   "cell_type": "markdown",
   "id": "b29f884a",
   "metadata": {
    "papermill": {
     "duration": 0.00818,
     "end_time": "2025-06-13T03:29:20.516144",
     "exception": false,
     "start_time": "2025-06-13T03:29:20.507964",
     "status": "completed"
    },
    "tags": []
   },
   "source": [
    "#### Using **5CV** for  1. calculate **Training Accuracy**"
   ]
  },
  {
   "cell_type": "code",
   "execution_count": 27,
   "id": "1f99b1fb",
   "metadata": {
    "execution": {
     "iopub.execute_input": "2025-06-13T03:29:20.534612Z",
     "iopub.status.busy": "2025-06-13T03:29:20.534018Z",
     "iopub.status.idle": "2025-06-13T03:29:20.539529Z",
     "shell.execute_reply": "2025-06-13T03:29:20.538658Z"
    },
    "papermill": {
     "duration": 0.016417,
     "end_time": "2025-06-13T03:29:20.540990",
     "exception": false,
     "start_time": "2025-06-13T03:29:20.524573",
     "status": "completed"
    },
    "tags": []
   },
   "outputs": [],
   "source": [
    "# Divide Train-Test\n",
    "from sklearn.model_selection import train_test_split\n",
    "X, Xt, y, yt = train_test_split(Xall, yall, test_size=0.25, random_state=0)"
   ]
  },
  {
   "cell_type": "code",
   "execution_count": 28,
   "id": "23a8edc7",
   "metadata": {
    "execution": {
     "iopub.execute_input": "2025-06-13T03:29:20.559922Z",
     "iopub.status.busy": "2025-06-13T03:29:20.559121Z",
     "iopub.status.idle": "2025-06-13T03:29:20.742066Z",
     "shell.execute_reply": "2025-06-13T03:29:20.741191Z"
    },
    "papermill": {
     "duration": 0.193945,
     "end_time": "2025-06-13T03:29:20.743577",
     "exception": false,
     "start_time": "2025-06-13T03:29:20.549632",
     "status": "completed"
    },
    "tags": []
   },
   "outputs": [
    {
     "data": {
      "text/plain": [
       "0.8589122240172321"
      ]
     },
     "execution_count": 28,
     "metadata": {},
     "output_type": "execute_result"
    }
   ],
   "source": [
    "from sklearn.model_selection import cross_val_predict\n",
    "from sklearn.tree import DecisionTreeClassifier\n",
    "clf = DecisionTreeClassifier(random_state=0)\n",
    "yp = cross_val_predict(clf, X, y, cv=5)\n",
    "sum(yp==y)/len(y) # Training Accuacy"
   ]
  },
  {
   "cell_type": "markdown",
   "id": "e1ce1f29",
   "metadata": {
    "papermill": {
     "duration": 0.009649,
     "end_time": "2025-06-13T03:29:20.762286",
     "exception": false,
     "start_time": "2025-06-13T03:29:20.752637",
     "status": "completed"
    },
    "tags": []
   },
   "source": [
    "#### 2. Calculate **Test Accuracy**"
   ]
  },
  {
   "cell_type": "code",
   "execution_count": 29,
   "id": "0ed76055",
   "metadata": {
    "execution": {
     "iopub.execute_input": "2025-06-13T03:29:20.781722Z",
     "iopub.status.busy": "2025-06-13T03:29:20.780986Z",
     "iopub.status.idle": "2025-06-13T03:29:20.791274Z",
     "shell.execute_reply": "2025-06-13T03:29:20.790361Z"
    },
    "papermill": {
     "duration": 0.021459,
     "end_time": "2025-06-13T03:29:20.792784",
     "exception": false,
     "start_time": "2025-06-13T03:29:20.771325",
     "status": "completed"
    },
    "tags": []
   },
   "outputs": [
    {
     "data": {
      "text/plain": [
       "0.853225806451613"
      ]
     },
     "execution_count": 29,
     "metadata": {},
     "output_type": "execute_result"
    }
   ],
   "source": [
    "clf =  DecisionTreeClassifier(random_state=0)\n",
    "clf.fit(X,y)\n",
    "yp = clf.predict(Xt)\n",
    "sum(yt==yp)/len(yt)"
   ]
  },
  {
   "cell_type": "markdown",
   "id": "670c0c09",
   "metadata": {
    "papermill": {
     "duration": 0.009121,
     "end_time": "2025-06-13T03:29:20.810995",
     "exception": false,
     "start_time": "2025-06-13T03:29:20.801874",
     "status": "completed"
    },
    "tags": []
   },
   "source": [
    "#### **Grid-Search** Tune Model using **Cross Validation**"
   ]
  },
  {
   "cell_type": "code",
   "execution_count": 30,
   "id": "481d8121",
   "metadata": {
    "execution": {
     "iopub.execute_input": "2025-06-13T03:29:20.830371Z",
     "iopub.status.busy": "2025-06-13T03:29:20.830047Z",
     "iopub.status.idle": "2025-06-13T03:29:20.836303Z",
     "shell.execute_reply": "2025-06-13T03:29:20.835157Z"
    },
    "papermill": {
     "duration": 0.01837,
     "end_time": "2025-06-13T03:29:20.838290",
     "exception": false,
     "start_time": "2025-06-13T03:29:20.819920",
     "status": "completed"
    },
    "tags": []
   },
   "outputs": [],
   "source": [
    "# Divide Train-Test\n",
    "from sklearn.model_selection import train_test_split\n",
    "X, Xt, y, yt = train_test_split(Xall, yall, test_size=0.25, random_state=0)"
   ]
  },
  {
   "cell_type": "code",
   "execution_count": 31,
   "id": "f923d96f",
   "metadata": {
    "execution": {
     "iopub.execute_input": "2025-06-13T03:29:20.858331Z",
     "iopub.status.busy": "2025-06-13T03:29:20.858003Z",
     "iopub.status.idle": "2025-06-13T03:29:21.147094Z",
     "shell.execute_reply": "2025-06-13T03:29:21.146210Z"
    },
    "papermill": {
     "duration": 0.30121,
     "end_time": "2025-06-13T03:29:21.148920",
     "exception": false,
     "start_time": "2025-06-13T03:29:20.847710",
     "status": "completed"
    },
    "tags": []
   },
   "outputs": [
    {
     "data": {
      "text/plain": [
       "[0.9262271027430311, {'C': 1}]"
      ]
     },
     "execution_count": 31,
     "metadata": {},
     "output_type": "execute_result"
    }
   ],
   "source": [
    "# Training Accuracy\n",
    "from sklearn.model_selection import GridSearchCV\n",
    "from sklearn.svm import SVC\n",
    "\n",
    "params ={ 'C': [1,2,4,8] }\n",
    "clf = GridSearchCV( SVC(random_state =0), params, cv=2).fit(X,y)\n",
    "\n",
    "# Training Accuracy and Parameters\n",
    "[clf.best_score_, clf.best_params_]"
   ]
  },
  {
   "cell_type": "code",
   "execution_count": 32,
   "id": "e6d48cdf",
   "metadata": {
    "execution": {
     "iopub.execute_input": "2025-06-13T03:29:21.168800Z",
     "iopub.status.busy": "2025-06-13T03:29:21.168482Z",
     "iopub.status.idle": "2025-06-13T03:29:21.185323Z",
     "shell.execute_reply": "2025-06-13T03:29:21.184451Z"
    },
    "papermill": {
     "duration": 0.028473,
     "end_time": "2025-06-13T03:29:21.187075",
     "exception": false,
     "start_time": "2025-06-13T03:29:21.158602",
     "status": "completed"
    },
    "tags": []
   },
   "outputs": [
    {
     "data": {
      "text/plain": [
       "0.9225806451612903"
      ]
     },
     "execution_count": 32,
     "metadata": {},
     "output_type": "execute_result"
    }
   ],
   "source": [
    "# Test Accuracy\n",
    "yp = clf.best_estimator_.predict(Xt)\n",
    "sum(yp==yt)/len(yt)"
   ]
  }
 ],
 "metadata": {
  "kaggle": {
   "accelerator": "none",
   "dataSources": [
    {
     "datasetId": 7474089,
     "sourceId": 11891195,
     "sourceType": "datasetVersion"
    }
   ],
   "dockerImageVersionId": 31040,
   "isGpuEnabled": false,
   "isInternetEnabled": true,
   "language": "python",
   "sourceType": "notebook"
  },
  "kernelspec": {
   "display_name": "Python 3",
   "language": "python",
   "name": "python3"
  },
  "language_info": {
   "codemirror_mode": {
    "name": "ipython",
    "version": 3
   },
   "file_extension": ".py",
   "mimetype": "text/x-python",
   "name": "python",
   "nbconvert_exporter": "python",
   "pygments_lexer": "ipython3",
   "version": "3.11.11"
  },
  "papermill": {
   "default_parameters": {},
   "duration": 11.166125,
   "end_time": "2025-06-13T03:29:21.917132",
   "environment_variables": {},
   "exception": null,
   "input_path": "__notebook__.ipynb",
   "output_path": "__notebook__.ipynb",
   "parameters": {},
   "start_time": "2025-06-13T03:29:10.751007",
   "version": "2.6.0"
  }
 },
 "nbformat": 4,
 "nbformat_minor": 5
}
