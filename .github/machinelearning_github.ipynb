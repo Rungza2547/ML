name: Sync Kaggle Notebooks

on:
  schedule:
    - cron: '0 0 * * *'  # Runs daily at midnight
  workflow_dispatch:

jobs:
  sync:
    runs-on: ubuntu-latest

    steps:
    - name: Checkout repository
      uses: actions/checkout@v2

    - name: Setup Python
      uses: actions/setup-python@v2
      with:
        python-version: 3.x

    - name: Install kaggle
      run: pip install kaggle

    - name: Download Kaggle notebook
      env:
        KAGGLE_USERNAME: ${{ secrets.KAGGLE_USERNAME }}
        KAGGLE_KEY: ${{ secrets.KAGGLE_KEY }}
      run: kaggle kernels pull <KAGGLE_USERNAME>/<NOTEBOOK_NAME> -p .

    - name: Commit and push changes
      run: |
        git config --global user.name 'github-actions[bot]'
        git config --global user.email 'github-actions[bot]@users.noreply.github.com'
        git add .
        git commit -m "Update Kaggle notebooks"
        git push







{
 "cells": [
  {
   "cell_type": "code",
   "execution_count": 1,
   "id": "dd3a5e05",
   "metadata": {
    "_cell_guid": "b1076dfc-b9ad-4769-8c92-a6c4dae69d19",
    "_uuid": "8f2839f25d086af736a60e9eeb907d3b93b6e0e5",
    "execution": {
     "iopub.execute_input": "2025-06-25T04:43:38.354154Z",
     "iopub.status.busy": "2025-06-25T04:43:38.353288Z",
     "iopub.status.idle": "2025-06-25T04:43:40.205010Z",
     "shell.execute_reply": "2025-06-25T04:43:40.203999Z"
    },
    "papermill": {
     "duration": 1.861511,
     "end_time": "2025-06-25T04:43:40.206407",
     "exception": false,
     "start_time": "2025-06-25T04:43:38.344896",
     "status": "completed"
    },
    "tags": []
   },
   "outputs": [
    {
     "name": "stdout",
     "output_type": "stream",
     "text": [
      "/kaggle/input/extrovert-vs-introvert-behavior-data/personality_datasert.csv\n",
      "/kaggle/input/extrovert-vs-introvert-behavior-data/personality_dataset.csv\n"
     ]
    }
   ],
   "source": [
    "# This Python 3 environment comes with many helpful analytics libraries installed\n",
    "# It is defined by the kaggle/python Docker image: https://github.com/kaggle/docker-python\n",
    "# For example, here's several helpful packages to load\n",
    "\n",
    "import numpy as np # linear algebra\n",
    "import pandas as pd # data processing, CSV file I/O (e.g. pd.read_csv)\n",
    "\n",
    "# Input data files are available in the read-only \"../input/\" directory\n",
    "# For example, running this (by clicking run or pressing Shift+Enter) will list all files under the input directory\n",
    "\n",
    "import os\n",
    "for dirname, _, filenames in os.walk('/kaggle/input'):\n",
    "    for filename in filenames:\n",
    "        print(os.path.join(dirname, filename))\n",
    "\n",
    "# You can write up to 20GB to the current directory (/kaggle/working/) that gets preserved as output when you create a version using \"Save & Run All\" \n",
    "# You can also write temporary files to /kaggle/temp/, but they won't be saved outside of the current session"
   ]
  },
  {
   "cell_type": "code",
   "execution_count": 2,
   "id": "e647caad",
   "metadata": {
    "execution": {
     "iopub.execute_input": "2025-06-25T04:43:40.220546Z",
     "iopub.status.busy": "2025-06-25T04:43:40.219982Z",
     "iopub.status.idle": "2025-06-25T04:43:40.224176Z",
     "shell.execute_reply": "2025-06-25T04:43:40.223442Z"
    },
    "papermill": {
     "duration": 0.012533,
     "end_time": "2025-06-25T04:43:40.225498",
     "exception": false,
     "start_time": "2025-06-25T04:43:40.212965",
     "status": "completed"
    },
    "tags": []
   },
   "outputs": [],
   "source": [
    "#closs warning\n",
    "import warnings\n",
    "warnings.filterwarnings('ignore')"
   ]
  },
  {
   "cell_type": "code",
   "execution_count": 3,
   "id": "e0184b35",
   "metadata": {
    "execution": {
     "iopub.execute_input": "2025-06-25T04:43:40.241001Z",
     "iopub.status.busy": "2025-06-25T04:43:40.240710Z",
     "iopub.status.idle": "2025-06-25T04:43:40.303100Z",
     "shell.execute_reply": "2025-06-25T04:43:40.302250Z"
    },
    "papermill": {
     "duration": 0.07237,
     "end_time": "2025-06-25T04:43:40.304380",
     "exception": false,
     "start_time": "2025-06-25T04:43:40.232010",
     "status": "completed"
    },
    "tags": []
   },
   "outputs": [
    {
     "data": {
      "text/html": [
       "<div>\n",
       "<style scoped>\n",
       "    .dataframe tbody tr th:only-of-type {\n",
       "        vertical-align: middle;\n",
       "    }\n",
       "\n",
       "    .dataframe tbody tr th {\n",
       "        vertical-align: top;\n",
       "    }\n",
       "\n",
       "    .dataframe thead th {\n",
       "        text-align: right;\n",
       "    }\n",
       "</style>\n",
       "<table border=\"1\" class=\"dataframe\">\n",
       "  <thead>\n",
       "    <tr style=\"text-align: right;\">\n",
       "      <th></th>\n",
       "      <th>Time_spent_Alone</th>\n",
       "      <th>Stage_fear</th>\n",
       "      <th>Social_event_attendance</th>\n",
       "      <th>Going_outside</th>\n",
       "      <th>Drained_after_socializing</th>\n",
       "      <th>Friends_circle_size</th>\n",
       "      <th>Post_frequency</th>\n",
       "      <th>Personality</th>\n",
       "    </tr>\n",
       "  </thead>\n",
       "  <tbody>\n",
       "    <tr>\n",
       "      <th>0</th>\n",
       "      <td>4.0</td>\n",
       "      <td>No</td>\n",
       "      <td>4.0</td>\n",
       "      <td>6.0</td>\n",
       "      <td>No</td>\n",
       "      <td>13.0</td>\n",
       "      <td>5.0</td>\n",
       "      <td>Extrovert</td>\n",
       "    </tr>\n",
       "    <tr>\n",
       "      <th>1</th>\n",
       "      <td>9.0</td>\n",
       "      <td>Yes</td>\n",
       "      <td>0.0</td>\n",
       "      <td>0.0</td>\n",
       "      <td>Yes</td>\n",
       "      <td>0.0</td>\n",
       "      <td>3.0</td>\n",
       "      <td>Introvert</td>\n",
       "    </tr>\n",
       "    <tr>\n",
       "      <th>2</th>\n",
       "      <td>9.0</td>\n",
       "      <td>Yes</td>\n",
       "      <td>1.0</td>\n",
       "      <td>2.0</td>\n",
       "      <td>Yes</td>\n",
       "      <td>5.0</td>\n",
       "      <td>2.0</td>\n",
       "      <td>Introvert</td>\n",
       "    </tr>\n",
       "    <tr>\n",
       "      <th>3</th>\n",
       "      <td>0.0</td>\n",
       "      <td>No</td>\n",
       "      <td>6.0</td>\n",
       "      <td>7.0</td>\n",
       "      <td>No</td>\n",
       "      <td>14.0</td>\n",
       "      <td>8.0</td>\n",
       "      <td>Extrovert</td>\n",
       "    </tr>\n",
       "    <tr>\n",
       "      <th>4</th>\n",
       "      <td>3.0</td>\n",
       "      <td>No</td>\n",
       "      <td>9.0</td>\n",
       "      <td>4.0</td>\n",
       "      <td>No</td>\n",
       "      <td>8.0</td>\n",
       "      <td>5.0</td>\n",
       "      <td>Extrovert</td>\n",
       "    </tr>\n",
       "    <tr>\n",
       "      <th>...</th>\n",
       "      <td>...</td>\n",
       "      <td>...</td>\n",
       "      <td>...</td>\n",
       "      <td>...</td>\n",
       "      <td>...</td>\n",
       "      <td>...</td>\n",
       "      <td>...</td>\n",
       "      <td>...</td>\n",
       "    </tr>\n",
       "    <tr>\n",
       "      <th>2895</th>\n",
       "      <td>3.0</td>\n",
       "      <td>No</td>\n",
       "      <td>7.0</td>\n",
       "      <td>6.0</td>\n",
       "      <td>No</td>\n",
       "      <td>6.0</td>\n",
       "      <td>6.0</td>\n",
       "      <td>Extrovert</td>\n",
       "    </tr>\n",
       "    <tr>\n",
       "      <th>2896</th>\n",
       "      <td>3.0</td>\n",
       "      <td>No</td>\n",
       "      <td>8.0</td>\n",
       "      <td>3.0</td>\n",
       "      <td>No</td>\n",
       "      <td>14.0</td>\n",
       "      <td>9.0</td>\n",
       "      <td>Extrovert</td>\n",
       "    </tr>\n",
       "    <tr>\n",
       "      <th>2897</th>\n",
       "      <td>4.0</td>\n",
       "      <td>Yes</td>\n",
       "      <td>1.0</td>\n",
       "      <td>1.0</td>\n",
       "      <td>Yes</td>\n",
       "      <td>4.0</td>\n",
       "      <td>0.0</td>\n",
       "      <td>Introvert</td>\n",
       "    </tr>\n",
       "    <tr>\n",
       "      <th>2898</th>\n",
       "      <td>11.0</td>\n",
       "      <td>Yes</td>\n",
       "      <td>1.0</td>\n",
       "      <td>NaN</td>\n",
       "      <td>Yes</td>\n",
       "      <td>2.0</td>\n",
       "      <td>0.0</td>\n",
       "      <td>Introvert</td>\n",
       "    </tr>\n",
       "    <tr>\n",
       "      <th>2899</th>\n",
       "      <td>3.0</td>\n",
       "      <td>No</td>\n",
       "      <td>6.0</td>\n",
       "      <td>6.0</td>\n",
       "      <td>No</td>\n",
       "      <td>6.0</td>\n",
       "      <td>9.0</td>\n",
       "      <td>Extrovert</td>\n",
       "    </tr>\n",
       "  </tbody>\n",
       "</table>\n",
       "<p>2900 rows × 8 columns</p>\n",
       "</div>"
      ],
      "text/plain": [
       "      Time_spent_Alone Stage_fear  Social_event_attendance  Going_outside  \\\n",
       "0                  4.0         No                      4.0            6.0   \n",
       "1                  9.0        Yes                      0.0            0.0   \n",
       "2                  9.0        Yes                      1.0            2.0   \n",
       "3                  0.0         No                      6.0            7.0   \n",
       "4                  3.0         No                      9.0            4.0   \n",
       "...                ...        ...                      ...            ...   \n",
       "2895               3.0         No                      7.0            6.0   \n",
       "2896               3.0         No                      8.0            3.0   \n",
       "2897               4.0        Yes                      1.0            1.0   \n",
       "2898              11.0        Yes                      1.0            NaN   \n",
       "2899               3.0         No                      6.0            6.0   \n",
       "\n",
       "     Drained_after_socializing  Friends_circle_size  Post_frequency  \\\n",
       "0                           No                 13.0             5.0   \n",
       "1                          Yes                  0.0             3.0   \n",
       "2                          Yes                  5.0             2.0   \n",
       "3                           No                 14.0             8.0   \n",
       "4                           No                  8.0             5.0   \n",
       "...                        ...                  ...             ...   \n",
       "2895                        No                  6.0             6.0   \n",
       "2896                        No                 14.0             9.0   \n",
       "2897                       Yes                  4.0             0.0   \n",
       "2898                       Yes                  2.0             0.0   \n",
       "2899                        No                  6.0             9.0   \n",
       "\n",
       "     Personality  \n",
       "0      Extrovert  \n",
       "1      Introvert  \n",
       "2      Introvert  \n",
       "3      Extrovert  \n",
       "4      Extrovert  \n",
       "...          ...  \n",
       "2895   Extrovert  \n",
       "2896   Extrovert  \n",
       "2897   Introvert  \n",
       "2898   Introvert  \n",
       "2899   Extrovert  \n",
       "\n",
       "[2900 rows x 8 columns]"
      ]
     },
     "execution_count": 3,
     "metadata": {},
     "output_type": "execute_result"
    }
   ],
   "source": [
    "df = pd.read_csv(\"/kaggle/input/extrovert-vs-introvert-behavior-data/personality_dataset.csv\", header=0)\n",
    "df"
   ]
  },
  {
   "cell_type": "code",
   "execution_count": 4,
   "id": "48b0bb4a",
   "metadata": {
    "execution": {
     "iopub.execute_input": "2025-06-25T04:43:40.318657Z",
     "iopub.status.busy": "2025-06-25T04:43:40.318322Z",
     "iopub.status.idle": "2025-06-25T04:43:40.335459Z",
     "shell.execute_reply": "2025-06-25T04:43:40.334646Z"
    },
    "papermill": {
     "duration": 0.025853,
     "end_time": "2025-06-25T04:43:40.336856",
     "exception": false,
     "start_time": "2025-06-25T04:43:40.311003",
     "status": "completed"
    },
    "tags": []
   },
   "outputs": [
    {
     "data": {
      "text/html": [
       "<div>\n",
       "<style scoped>\n",
       "    .dataframe tbody tr th:only-of-type {\n",
       "        vertical-align: middle;\n",
       "    }\n",
       "\n",
       "    .dataframe tbody tr th {\n",
       "        vertical-align: top;\n",
       "    }\n",
       "\n",
       "    .dataframe thead th {\n",
       "        text-align: right;\n",
       "    }\n",
       "</style>\n",
       "<table border=\"1\" class=\"dataframe\">\n",
       "  <thead>\n",
       "    <tr style=\"text-align: right;\">\n",
       "      <th></th>\n",
       "      <th>Time_spent_Alone</th>\n",
       "      <th>Stage_fear</th>\n",
       "      <th>Social_event_attendance</th>\n",
       "      <th>Going_outside</th>\n",
       "      <th>Drained_after_socializing</th>\n",
       "      <th>Friends_circle_size</th>\n",
       "      <th>Post_frequency</th>\n",
       "    </tr>\n",
       "    <tr>\n",
       "      <th>Personality</th>\n",
       "      <th></th>\n",
       "      <th></th>\n",
       "      <th></th>\n",
       "      <th></th>\n",
       "      <th></th>\n",
       "      <th></th>\n",
       "      <th></th>\n",
       "    </tr>\n",
       "  </thead>\n",
       "  <tbody>\n",
       "    <tr>\n",
       "      <th>Extrovert</th>\n",
       "      <td>1457</td>\n",
       "      <td>1449</td>\n",
       "      <td>1463</td>\n",
       "      <td>1456</td>\n",
       "      <td>1473</td>\n",
       "      <td>1451</td>\n",
       "      <td>1458</td>\n",
       "    </tr>\n",
       "    <tr>\n",
       "      <th>Introvert</th>\n",
       "      <td>1380</td>\n",
       "      <td>1378</td>\n",
       "      <td>1375</td>\n",
       "      <td>1378</td>\n",
       "      <td>1375</td>\n",
       "      <td>1372</td>\n",
       "      <td>1377</td>\n",
       "    </tr>\n",
       "  </tbody>\n",
       "</table>\n",
       "</div>"
      ],
      "text/plain": [
       "             Time_spent_Alone  Stage_fear  Social_event_attendance  \\\n",
       "Personality                                                          \n",
       "Extrovert                1457        1449                     1463   \n",
       "Introvert                1380        1378                     1375   \n",
       "\n",
       "             Going_outside  Drained_after_socializing  Friends_circle_size  \\\n",
       "Personality                                                                  \n",
       "Extrovert             1456                       1473                 1451   \n",
       "Introvert             1378                       1375                 1372   \n",
       "\n",
       "             Post_frequency  \n",
       "Personality                  \n",
       "Extrovert              1458  \n",
       "Introvert              1377  "
      ]
     },
     "execution_count": 4,
     "metadata": {},
     "output_type": "execute_result"
    }
   ],
   "source": [
    "df.groupby(\"Personality\").count()"
   ]
  },
  {
   "cell_type": "markdown",
   "id": "79539bdd",
   "metadata": {
    "papermill": {
     "duration": 0.006711,
     "end_time": "2025-06-25T04:43:40.350309",
     "exception": false,
     "start_time": "2025-06-25T04:43:40.343598",
     "status": "completed"
    },
    "tags": []
   },
   "source": [
    "## Preprocessing"
   ]
  },
  {
   "cell_type": "code",
   "execution_count": 5,
   "id": "02e58962",
   "metadata": {
    "execution": {
     "iopub.execute_input": "2025-06-25T04:43:40.364754Z",
     "iopub.status.busy": "2025-06-25T04:43:40.364057Z",
     "iopub.status.idle": "2025-06-25T04:43:40.383584Z",
     "shell.execute_reply": "2025-06-25T04:43:40.382675Z"
    },
    "papermill": {
     "duration": 0.028081,
     "end_time": "2025-06-25T04:43:40.384874",
     "exception": false,
     "start_time": "2025-06-25T04:43:40.356793",
     "status": "completed"
    },
    "tags": []
   },
   "outputs": [
    {
     "name": "stdout",
     "output_type": "stream",
     "text": [
      "<class 'pandas.core.frame.DataFrame'>\n",
      "RangeIndex: 2900 entries, 0 to 2899\n",
      "Data columns (total 8 columns):\n",
      " #   Column                     Non-Null Count  Dtype  \n",
      "---  ------                     --------------  -----  \n",
      " 0   Time_spent_Alone           2837 non-null   float64\n",
      " 1   Stage_fear                 2827 non-null   object \n",
      " 2   Social_event_attendance    2838 non-null   float64\n",
      " 3   Going_outside              2834 non-null   float64\n",
      " 4   Drained_after_socializing  2848 non-null   object \n",
      " 5   Friends_circle_size        2823 non-null   float64\n",
      " 6   Post_frequency             2835 non-null   float64\n",
      " 7   Personality                2900 non-null   object \n",
      "dtypes: float64(5), object(3)\n",
      "memory usage: 181.4+ KB\n"
     ]
    }
   ],
   "source": [
    "df.info()"
   ]
  },
  {
   "cell_type": "code",
   "execution_count": 6,
   "id": "a5f2cc2c",
   "metadata": {
    "execution": {
     "iopub.execute_input": "2025-06-25T04:43:40.399737Z",
     "iopub.status.busy": "2025-06-25T04:43:40.399477Z",
     "iopub.status.idle": "2025-06-25T04:43:40.407389Z",
     "shell.execute_reply": "2025-06-25T04:43:40.406567Z"
    },
    "papermill": {
     "duration": 0.016962,
     "end_time": "2025-06-25T04:43:40.408713",
     "exception": false,
     "start_time": "2025-06-25T04:43:40.391751",
     "status": "completed"
    },
    "tags": []
   },
   "outputs": [
    {
     "data": {
      "text/plain": [
       "Time_spent_Alone             63\n",
       "Stage_fear                   73\n",
       "Social_event_attendance      62\n",
       "Going_outside                66\n",
       "Drained_after_socializing    52\n",
       "Friends_circle_size          77\n",
       "Post_frequency               65\n",
       "Personality                   0\n",
       "dtype: int64"
      ]
     },
     "execution_count": 6,
     "metadata": {},
     "output_type": "execute_result"
    }
   ],
   "source": [
    "df.isnull().sum()"
   ]
  },
  {
   "cell_type": "code",
   "execution_count": 7,
   "id": "51e8e6de",
   "metadata": {
    "execution": {
     "iopub.execute_input": "2025-06-25T04:43:40.423308Z",
     "iopub.status.busy": "2025-06-25T04:43:40.423038Z",
     "iopub.status.idle": "2025-06-25T04:43:40.431500Z",
     "shell.execute_reply": "2025-06-25T04:43:40.430770Z"
    },
    "papermill": {
     "duration": 0.017294,
     "end_time": "2025-06-25T04:43:40.432759",
     "exception": false,
     "start_time": "2025-06-25T04:43:40.415465",
     "status": "completed"
    },
    "tags": []
   },
   "outputs": [
    {
     "data": {
      "text/plain": [
       "Time_spent_Alone             0\n",
       "Stage_fear                   0\n",
       "Social_event_attendance      0\n",
       "Going_outside                0\n",
       "Drained_after_socializing    0\n",
       "Friends_circle_size          0\n",
       "Post_frequency               0\n",
       "Personality                  0\n",
       "dtype: int64"
      ]
     },
     "execution_count": 7,
     "metadata": {},
     "output_type": "execute_result"
    }
   ],
   "source": [
    "df_clean = df.dropna()\n",
    "df_clean.isnull().sum()"
   ]
  },
  {
   "cell_type": "code",
   "execution_count": 8,
   "id": "763087e3",
   "metadata": {
    "execution": {
     "iopub.execute_input": "2025-06-25T04:43:40.447437Z",
     "iopub.status.busy": "2025-06-25T04:43:40.447113Z",
     "iopub.status.idle": "2025-06-25T04:43:40.457750Z",
     "shell.execute_reply": "2025-06-25T04:43:40.457047Z"
    },
    "papermill": {
     "duration": 0.019425,
     "end_time": "2025-06-25T04:43:40.458986",
     "exception": false,
     "start_time": "2025-06-25T04:43:40.439561",
     "status": "completed"
    },
    "tags": []
   },
   "outputs": [
    {
     "data": {
      "text/html": [
       "<div>\n",
       "<style scoped>\n",
       "    .dataframe tbody tr th:only-of-type {\n",
       "        vertical-align: middle;\n",
       "    }\n",
       "\n",
       "    .dataframe tbody tr th {\n",
       "        vertical-align: top;\n",
       "    }\n",
       "\n",
       "    .dataframe thead th {\n",
       "        text-align: right;\n",
       "    }\n",
       "</style>\n",
       "<table border=\"1\" class=\"dataframe\">\n",
       "  <thead>\n",
       "    <tr style=\"text-align: right;\">\n",
       "      <th></th>\n",
       "      <th>Time_spent_Alone</th>\n",
       "      <th>Stage_fear</th>\n",
       "      <th>Social_event_attendance</th>\n",
       "      <th>Going_outside</th>\n",
       "      <th>Drained_after_socializing</th>\n",
       "      <th>Friends_circle_size</th>\n",
       "      <th>Post_frequency</th>\n",
       "    </tr>\n",
       "    <tr>\n",
       "      <th>Personality</th>\n",
       "      <th></th>\n",
       "      <th></th>\n",
       "      <th></th>\n",
       "      <th></th>\n",
       "      <th></th>\n",
       "      <th></th>\n",
       "      <th></th>\n",
       "    </tr>\n",
       "  </thead>\n",
       "  <tbody>\n",
       "    <tr>\n",
       "      <th>Extrovert</th>\n",
       "      <td>1274</td>\n",
       "      <td>1274</td>\n",
       "      <td>1274</td>\n",
       "      <td>1274</td>\n",
       "      <td>1274</td>\n",
       "      <td>1274</td>\n",
       "      <td>1274</td>\n",
       "    </tr>\n",
       "    <tr>\n",
       "      <th>Introvert</th>\n",
       "      <td>1203</td>\n",
       "      <td>1203</td>\n",
       "      <td>1203</td>\n",
       "      <td>1203</td>\n",
       "      <td>1203</td>\n",
       "      <td>1203</td>\n",
       "      <td>1203</td>\n",
       "    </tr>\n",
       "  </tbody>\n",
       "</table>\n",
       "</div>"
      ],
      "text/plain": [
       "             Time_spent_Alone  Stage_fear  Social_event_attendance  \\\n",
       "Personality                                                          \n",
       "Extrovert                1274        1274                     1274   \n",
       "Introvert                1203        1203                     1203   \n",
       "\n",
       "             Going_outside  Drained_after_socializing  Friends_circle_size  \\\n",
       "Personality                                                                  \n",
       "Extrovert             1274                       1274                 1274   \n",
       "Introvert             1203                       1203                 1203   \n",
       "\n",
       "             Post_frequency  \n",
       "Personality                  \n",
       "Extrovert              1274  \n",
       "Introvert              1203  "
      ]
     },
     "execution_count": 8,
     "metadata": {},
     "output_type": "execute_result"
    }
   ],
   "source": [
    "df_clean.groupby(\"Personality\").count()"
   ]
  },
  {
   "cell_type": "markdown",
   "id": "1882016f",
   "metadata": {
    "papermill": {
     "duration": 0.006595,
     "end_time": "2025-06-25T04:43:40.472415",
     "exception": false,
     "start_time": "2025-06-25T04:43:40.465820",
     "status": "completed"
    },
    "tags": []
   },
   "source": [
    "ข้อมูลค่อนข้าง balance"
   ]
  },
  {
   "cell_type": "code",
   "execution_count": 9,
   "id": "6d1fbf1a",
   "metadata": {
    "execution": {
     "iopub.execute_input": "2025-06-25T04:43:40.487654Z",
     "iopub.status.busy": "2025-06-25T04:43:40.487313Z",
     "iopub.status.idle": "2025-06-25T04:43:40.504107Z",
     "shell.execute_reply": "2025-06-25T04:43:40.503121Z"
    },
    "papermill": {
     "duration": 0.026294,
     "end_time": "2025-06-25T04:43:40.505718",
     "exception": false,
     "start_time": "2025-06-25T04:43:40.479424",
     "status": "completed"
    },
    "tags": []
   },
   "outputs": [
    {
     "data": {
      "text/html": [
       "<div>\n",
       "<style scoped>\n",
       "    .dataframe tbody tr th:only-of-type {\n",
       "        vertical-align: middle;\n",
       "    }\n",
       "\n",
       "    .dataframe tbody tr th {\n",
       "        vertical-align: top;\n",
       "    }\n",
       "\n",
       "    .dataframe thead th {\n",
       "        text-align: right;\n",
       "    }\n",
       "</style>\n",
       "<table border=\"1\" class=\"dataframe\">\n",
       "  <thead>\n",
       "    <tr style=\"text-align: right;\">\n",
       "      <th></th>\n",
       "      <th>Time_spent_Alone</th>\n",
       "      <th>Stage_fear</th>\n",
       "      <th>Social_event_attendance</th>\n",
       "      <th>Going_outside</th>\n",
       "      <th>Drained_after_socializing</th>\n",
       "      <th>Friends_circle_size</th>\n",
       "      <th>Post_frequency</th>\n",
       "      <th>Personality</th>\n",
       "    </tr>\n",
       "  </thead>\n",
       "  <tbody>\n",
       "    <tr>\n",
       "      <th>0</th>\n",
       "      <td>4.0</td>\n",
       "      <td>0</td>\n",
       "      <td>4.0</td>\n",
       "      <td>6.0</td>\n",
       "      <td>0</td>\n",
       "      <td>13.0</td>\n",
       "      <td>5.0</td>\n",
       "      <td>0</td>\n",
       "    </tr>\n",
       "    <tr>\n",
       "      <th>1</th>\n",
       "      <td>9.0</td>\n",
       "      <td>1</td>\n",
       "      <td>0.0</td>\n",
       "      <td>0.0</td>\n",
       "      <td>1</td>\n",
       "      <td>0.0</td>\n",
       "      <td>3.0</td>\n",
       "      <td>1</td>\n",
       "    </tr>\n",
       "    <tr>\n",
       "      <th>2</th>\n",
       "      <td>9.0</td>\n",
       "      <td>1</td>\n",
       "      <td>1.0</td>\n",
       "      <td>2.0</td>\n",
       "      <td>1</td>\n",
       "      <td>5.0</td>\n",
       "      <td>2.0</td>\n",
       "      <td>1</td>\n",
       "    </tr>\n",
       "    <tr>\n",
       "      <th>3</th>\n",
       "      <td>0.0</td>\n",
       "      <td>0</td>\n",
       "      <td>6.0</td>\n",
       "      <td>7.0</td>\n",
       "      <td>0</td>\n",
       "      <td>14.0</td>\n",
       "      <td>8.0</td>\n",
       "      <td>0</td>\n",
       "    </tr>\n",
       "    <tr>\n",
       "      <th>4</th>\n",
       "      <td>3.0</td>\n",
       "      <td>0</td>\n",
       "      <td>9.0</td>\n",
       "      <td>4.0</td>\n",
       "      <td>0</td>\n",
       "      <td>8.0</td>\n",
       "      <td>5.0</td>\n",
       "      <td>0</td>\n",
       "    </tr>\n",
       "    <tr>\n",
       "      <th>...</th>\n",
       "      <td>...</td>\n",
       "      <td>...</td>\n",
       "      <td>...</td>\n",
       "      <td>...</td>\n",
       "      <td>...</td>\n",
       "      <td>...</td>\n",
       "      <td>...</td>\n",
       "      <td>...</td>\n",
       "    </tr>\n",
       "    <tr>\n",
       "      <th>2892</th>\n",
       "      <td>9.0</td>\n",
       "      <td>1</td>\n",
       "      <td>2.0</td>\n",
       "      <td>0.0</td>\n",
       "      <td>1</td>\n",
       "      <td>1.0</td>\n",
       "      <td>2.0</td>\n",
       "      <td>1</td>\n",
       "    </tr>\n",
       "    <tr>\n",
       "      <th>2895</th>\n",
       "      <td>3.0</td>\n",
       "      <td>0</td>\n",
       "      <td>7.0</td>\n",
       "      <td>6.0</td>\n",
       "      <td>0</td>\n",
       "      <td>6.0</td>\n",
       "      <td>6.0</td>\n",
       "      <td>0</td>\n",
       "    </tr>\n",
       "    <tr>\n",
       "      <th>2896</th>\n",
       "      <td>3.0</td>\n",
       "      <td>0</td>\n",
       "      <td>8.0</td>\n",
       "      <td>3.0</td>\n",
       "      <td>0</td>\n",
       "      <td>14.0</td>\n",
       "      <td>9.0</td>\n",
       "      <td>0</td>\n",
       "    </tr>\n",
       "    <tr>\n",
       "      <th>2897</th>\n",
       "      <td>4.0</td>\n",
       "      <td>1</td>\n",
       "      <td>1.0</td>\n",
       "      <td>1.0</td>\n",
       "      <td>1</td>\n",
       "      <td>4.0</td>\n",
       "      <td>0.0</td>\n",
       "      <td>1</td>\n",
       "    </tr>\n",
       "    <tr>\n",
       "      <th>2899</th>\n",
       "      <td>3.0</td>\n",
       "      <td>0</td>\n",
       "      <td>6.0</td>\n",
       "      <td>6.0</td>\n",
       "      <td>0</td>\n",
       "      <td>6.0</td>\n",
       "      <td>9.0</td>\n",
       "      <td>0</td>\n",
       "    </tr>\n",
       "  </tbody>\n",
       "</table>\n",
       "<p>2477 rows × 8 columns</p>\n",
       "</div>"
      ],
      "text/plain": [
       "      Time_spent_Alone  Stage_fear  Social_event_attendance  Going_outside  \\\n",
       "0                  4.0           0                      4.0            6.0   \n",
       "1                  9.0           1                      0.0            0.0   \n",
       "2                  9.0           1                      1.0            2.0   \n",
       "3                  0.0           0                      6.0            7.0   \n",
       "4                  3.0           0                      9.0            4.0   \n",
       "...                ...         ...                      ...            ...   \n",
       "2892               9.0           1                      2.0            0.0   \n",
       "2895               3.0           0                      7.0            6.0   \n",
       "2896               3.0           0                      8.0            3.0   \n",
       "2897               4.0           1                      1.0            1.0   \n",
       "2899               3.0           0                      6.0            6.0   \n",
       "\n",
       "      Drained_after_socializing  Friends_circle_size  Post_frequency  \\\n",
       "0                             0                 13.0             5.0   \n",
       "1                             1                  0.0             3.0   \n",
       "2                             1                  5.0             2.0   \n",
       "3                             0                 14.0             8.0   \n",
       "4                             0                  8.0             5.0   \n",
       "...                         ...                  ...             ...   \n",
       "2892                          1                  1.0             2.0   \n",
       "2895                          0                  6.0             6.0   \n",
       "2896                          0                 14.0             9.0   \n",
       "2897                          1                  4.0             0.0   \n",
       "2899                          0                  6.0             9.0   \n",
       "\n",
       "      Personality  \n",
       "0               0  \n",
       "1               1  \n",
       "2               1  \n",
       "3               0  \n",
       "4               0  \n",
       "...           ...  \n",
       "2892            1  \n",
       "2895            0  \n",
       "2896            0  \n",
       "2897            1  \n",
       "2899            0  \n",
       "\n",
       "[2477 rows x 8 columns]"
      ]
     },
     "execution_count": 9,
     "metadata": {},
     "output_type": "execute_result"
    }
   ],
   "source": [
    "# convert type\n",
    "str_col = ['Stage_fear', 'Drained_after_socializing', 'Personality']\n",
    "for item in str_col:\n",
    "    df_clean[item] = pd.factorize(df_clean[item])[0]\n",
    "df_clean"
   ]
  },
  {
   "cell_type": "code",
   "execution_count": 10,
   "id": "b7d73917",
   "metadata": {
    "execution": {
     "iopub.execute_input": "2025-06-25T04:43:40.521906Z",
     "iopub.status.busy": "2025-06-25T04:43:40.521270Z",
     "iopub.status.idle": "2025-06-25T04:43:40.530731Z",
     "shell.execute_reply": "2025-06-25T04:43:40.529819Z"
    },
    "papermill": {
     "duration": 0.018722,
     "end_time": "2025-06-25T04:43:40.531991",
     "exception": false,
     "start_time": "2025-06-25T04:43:40.513269",
     "status": "completed"
    },
    "tags": []
   },
   "outputs": [
    {
     "name": "stdout",
     "output_type": "stream",
     "text": [
      "<class 'pandas.core.frame.DataFrame'>\n",
      "Index: 2477 entries, 0 to 2899\n",
      "Data columns (total 8 columns):\n",
      " #   Column                     Non-Null Count  Dtype  \n",
      "---  ------                     --------------  -----  \n",
      " 0   Time_spent_Alone           2477 non-null   float64\n",
      " 1   Stage_fear                 2477 non-null   int64  \n",
      " 2   Social_event_attendance    2477 non-null   float64\n",
      " 3   Going_outside              2477 non-null   float64\n",
      " 4   Drained_after_socializing  2477 non-null   int64  \n",
      " 5   Friends_circle_size        2477 non-null   float64\n",
      " 6   Post_frequency             2477 non-null   float64\n",
      " 7   Personality                2477 non-null   int64  \n",
      "dtypes: float64(5), int64(3)\n",
      "memory usage: 174.2 KB\n"
     ]
    }
   ],
   "source": [
    "df_clean.info()"
   ]
  },
  {
   "cell_type": "markdown",
   "id": "133a1d7f",
   "metadata": {
    "papermill": {
     "duration": 0.007176,
     "end_time": "2025-06-25T04:43:40.546691",
     "exception": false,
     "start_time": "2025-06-25T04:43:40.539515",
     "status": "completed"
    },
    "tags": []
   },
   "source": [
    "## Split Xall , yall"
   ]
  },
  {
   "cell_type": "code",
   "execution_count": 11,
   "id": "393c2633",
   "metadata": {
    "execution": {
     "iopub.execute_input": "2025-06-25T04:43:40.562950Z",
     "iopub.status.busy": "2025-06-25T04:43:40.562667Z",
     "iopub.status.idle": "2025-06-25T04:43:40.568657Z",
     "shell.execute_reply": "2025-06-25T04:43:40.567633Z"
    },
    "papermill": {
     "duration": 0.016257,
     "end_time": "2025-06-25T04:43:40.570264",
     "exception": false,
     "start_time": "2025-06-25T04:43:40.554007",
     "status": "completed"
    },
    "tags": []
   },
   "outputs": [],
   "source": [
    "# แยก features (X) และ target (y)\n",
    "Xall = df_clean.drop(['Personality'], axis=1).values\n",
    "yall = df_clean['Personality'].values"
   ]
  },
  {
   "cell_type": "code",
   "execution_count": 12,
   "id": "8eacac01",
   "metadata": {
    "execution": {
     "iopub.execute_input": "2025-06-25T04:43:40.586347Z",
     "iopub.status.busy": "2025-06-25T04:43:40.586039Z",
     "iopub.status.idle": "2025-06-25T04:43:40.590608Z",
     "shell.execute_reply": "2025-06-25T04:43:40.589766Z"
    },
    "papermill": {
     "duration": 0.014329,
     "end_time": "2025-06-25T04:43:40.592106",
     "exception": false,
     "start_time": "2025-06-25T04:43:40.577777",
     "status": "completed"
    },
    "tags": []
   },
   "outputs": [
    {
     "name": "stdout",
     "output_type": "stream",
     "text": [
      "Xall Shape (2477, 7) feature ที่ใช้เป็น input ในโมเดล drop 1 เหลือ 7\n",
      "yall Shape (2477,) target หรือ label ที่ต้องการพยากรณ์ // ตัวแปร yall ให้เก็บค่าจากคอลัมน์ 'Personality'\n"
     ]
    }
   ],
   "source": [
    "print(\"Xall Shape\", Xall.shape, \"feature ที่ใช้เป็น input ในโมเดล drop 1 เหลือ 7\") \n",
    "print(\"yall Shape\",yall.shape, \"target หรือ label ที่ต้องการพยากรณ์ // ตัวแปร yall ให้เก็บค่าจากคอลัมน์ 'Personality'\")"
   ]
  },
  {
   "cell_type": "code",
   "execution_count": 13,
   "id": "31d87403",
   "metadata": {
    "execution": {
     "iopub.execute_input": "2025-06-25T04:43:40.609522Z",
     "iopub.status.busy": "2025-06-25T04:43:40.609196Z",
     "iopub.status.idle": "2025-06-25T04:43:40.615438Z",
     "shell.execute_reply": "2025-06-25T04:43:40.614686Z"
    },
    "papermill": {
     "duration": 0.016518,
     "end_time": "2025-06-25T04:43:40.616744",
     "exception": false,
     "start_time": "2025-06-25T04:43:40.600226",
     "status": "completed"
    },
    "tags": []
   },
   "outputs": [
    {
     "data": {
      "text/plain": [
       "[1203, 1274]"
      ]
     },
     "execution_count": 13,
     "metadata": {},
     "output_type": "execute_result"
    }
   ],
   "source": [
    "[sum(yall==1), sum(yall==0)] #sum num of 1 = Extrovert, 0 = Introvert"
   ]
  },
  {
   "cell_type": "markdown",
   "id": "18cdc86e",
   "metadata": {
    "papermill": {
     "duration": 0.007344,
     "end_time": "2025-06-25T04:43:40.631655",
     "exception": false,
     "start_time": "2025-06-25T04:43:40.624311",
     "status": "completed"
    },
    "tags": []
   },
   "source": [
    "## Train Test Spilt"
   ]
  },
  {
   "cell_type": "code",
   "execution_count": 14,
   "id": "d968803c",
   "metadata": {
    "execution": {
     "iopub.execute_input": "2025-06-25T04:43:40.648228Z",
     "iopub.status.busy": "2025-06-25T04:43:40.647947Z",
     "iopub.status.idle": "2025-06-25T04:43:42.183618Z",
     "shell.execute_reply": "2025-06-25T04:43:42.182662Z"
    },
    "papermill": {
     "duration": 1.5463,
     "end_time": "2025-06-25T04:43:42.185232",
     "exception": false,
     "start_time": "2025-06-25T04:43:40.638932",
     "status": "completed"
    },
    "tags": []
   },
   "outputs": [],
   "source": [
    "from sklearn.model_selection import train_test_split\n",
    "X, Xt, y, yt = train_test_split(Xall, yall, test_size=0.25, random_state=0)"
   ]
  },
  {
   "cell_type": "code",
   "execution_count": 15,
   "id": "ae646cf3",
   "metadata": {
    "execution": {
     "iopub.execute_input": "2025-06-25T04:43:42.202066Z",
     "iopub.status.busy": "2025-06-25T04:43:42.201660Z",
     "iopub.status.idle": "2025-06-25T04:43:42.208175Z",
     "shell.execute_reply": "2025-06-25T04:43:42.207418Z"
    },
    "papermill": {
     "duration": 0.016336,
     "end_time": "2025-06-25T04:43:42.209582",
     "exception": false,
     "start_time": "2025-06-25T04:43:42.193246",
     "status": "completed"
    },
    "tags": []
   },
   "outputs": [
    {
     "data": {
      "text/plain": [
       "[907, 950, 296, 324]"
      ]
     },
     "execution_count": 15,
     "metadata": {},
     "output_type": "execute_result"
    }
   ],
   "source": [
    "[sum(y==1), sum(y==0), sum(yt==1), sum(yt==0)]"
   ]
  },
  {
   "cell_type": "markdown",
   "id": "8e767057",
   "metadata": {
    "papermill": {
     "duration": 0.007311,
     "end_time": "2025-06-25T04:43:42.224625",
     "exception": false,
     "start_time": "2025-06-25T04:43:42.217314",
     "status": "completed"
    },
    "tags": []
   },
   "source": [
    "## Normalization"
   ]
  },
  {
   "cell_type": "code",
   "execution_count": 16,
   "id": "7c998512",
   "metadata": {
    "execution": {
     "iopub.execute_input": "2025-06-25T04:43:42.242157Z",
     "iopub.status.busy": "2025-06-25T04:43:42.241429Z",
     "iopub.status.idle": "2025-06-25T04:43:42.247628Z",
     "shell.execute_reply": "2025-06-25T04:43:42.246708Z"
    },
    "papermill": {
     "duration": 0.017186,
     "end_time": "2025-06-25T04:43:42.249250",
     "exception": false,
     "start_time": "2025-06-25T04:43:42.232064",
     "status": "completed"
    },
    "tags": []
   },
   "outputs": [],
   "source": [
    "#Normalization ให้เป็น 1 กับ 0\n",
    "\n",
    "from sklearn.preprocessing import MinMaxScaler\n",
    "scl = MinMaxScaler().fit(X)\n",
    "X = scl.transform(X)\n",
    "Xt = scl.transform(Xt)"
   ]
  },
  {
   "cell_type": "code",
   "execution_count": 17,
   "id": "9d77dbf9",
   "metadata": {
    "execution": {
     "iopub.execute_input": "2025-06-25T04:43:42.328386Z",
     "iopub.status.busy": "2025-06-25T04:43:42.328065Z",
     "iopub.status.idle": "2025-06-25T04:43:42.334802Z",
     "shell.execute_reply": "2025-06-25T04:43:42.333850Z"
    },
    "papermill": {
     "duration": 0.079047,
     "end_time": "2025-06-25T04:43:42.336134",
     "exception": false,
     "start_time": "2025-06-25T04:43:42.257087",
     "status": "completed"
    },
    "tags": []
   },
   "outputs": [
    {
     "data": {
      "text/plain": [
       "(array([1., 1., 1., 1., 1., 1., 1.]), array([0., 0., 0., 0., 0., 0., 0.]))"
      ]
     },
     "execution_count": 17,
     "metadata": {},
     "output_type": "execute_result"
    }
   ],
   "source": [
    "np.max(X,axis=0), np.min(X, axis=0)"
   ]
  },
  {
   "cell_type": "code",
   "execution_count": 18,
   "id": "c45bd0fa",
   "metadata": {
    "execution": {
     "iopub.execute_input": "2025-06-25T04:43:42.353850Z",
     "iopub.status.busy": "2025-06-25T04:43:42.353051Z",
     "iopub.status.idle": "2025-06-25T04:43:42.359081Z",
     "shell.execute_reply": "2025-06-25T04:43:42.358263Z"
    },
    "papermill": {
     "duration": 0.01605,
     "end_time": "2025-06-25T04:43:42.360460",
     "exception": false,
     "start_time": "2025-06-25T04:43:42.344410",
     "status": "completed"
    },
    "tags": []
   },
   "outputs": [
    {
     "data": {
      "text/plain": [
       "array([1., 1., 1., 1., 1., 1., 1.])"
      ]
     },
     "execution_count": 18,
     "metadata": {},
     "output_type": "execute_result"
    }
   ],
   "source": [
    "np.max(Xt, axis=0)"
   ]
  },
  {
   "cell_type": "code",
   "execution_count": 19,
   "id": "e1cabb31",
   "metadata": {
    "execution": {
     "iopub.execute_input": "2025-06-25T04:43:42.377792Z",
     "iopub.status.busy": "2025-06-25T04:43:42.377520Z",
     "iopub.status.idle": "2025-06-25T04:43:42.383427Z",
     "shell.execute_reply": "2025-06-25T04:43:42.382585Z"
    },
    "papermill": {
     "duration": 0.016119,
     "end_time": "2025-06-25T04:43:42.384719",
     "exception": false,
     "start_time": "2025-06-25T04:43:42.368600",
     "status": "completed"
    },
    "tags": []
   },
   "outputs": [
    {
     "data": {
      "text/plain": [
       "array([0, 1])"
      ]
     },
     "execution_count": 19,
     "metadata": {},
     "output_type": "execute_result"
    }
   ],
   "source": [
    "np.unique(y)  #2 class : 0,1"
   ]
  },
  {
   "cell_type": "markdown",
   "id": "3461d4ba",
   "metadata": {
    "papermill": {
     "duration": 0.007558,
     "end_time": "2025-06-25T04:43:42.400292",
     "exception": false,
     "start_time": "2025-06-25T04:43:42.392734",
     "status": "completed"
    },
    "tags": []
   },
   "source": [
    "## Model"
   ]
  },
  {
   "cell_type": "markdown",
   "id": "fa1c71d2",
   "metadata": {
    "papermill": {
     "duration": 0.007947,
     "end_time": "2025-06-25T04:43:42.416188",
     "exception": false,
     "start_time": "2025-06-25T04:43:42.408241",
     "status": "completed"
    },
    "tags": []
   },
   "source": [
    "#### Calculate Only Test Accuracy"
   ]
  },
  {
   "cell_type": "code",
   "execution_count": 20,
   "id": "59cb7e26",
   "metadata": {
    "execution": {
     "iopub.execute_input": "2025-06-25T04:43:42.434240Z",
     "iopub.status.busy": "2025-06-25T04:43:42.433317Z",
     "iopub.status.idle": "2025-06-25T04:43:42.621829Z",
     "shell.execute_reply": "2025-06-25T04:43:42.620785Z"
    },
    "papermill": {
     "duration": 0.198907,
     "end_time": "2025-06-25T04:43:42.623229",
     "exception": false,
     "start_time": "2025-06-25T04:43:42.424322",
     "status": "completed"
    },
    "tags": []
   },
   "outputs": [
    {
     "data": {
      "text/html": [
       "<style>#sk-container-id-1 {color: black;background-color: white;}#sk-container-id-1 pre{padding: 0;}#sk-container-id-1 div.sk-toggleable {background-color: white;}#sk-container-id-1 label.sk-toggleable__label {cursor: pointer;display: block;width: 100%;margin-bottom: 0;padding: 0.3em;box-sizing: border-box;text-align: center;}#sk-container-id-1 label.sk-toggleable__label-arrow:before {content: \"▸\";float: left;margin-right: 0.25em;color: #696969;}#sk-container-id-1 label.sk-toggleable__label-arrow:hover:before {color: black;}#sk-container-id-1 div.sk-estimator:hover label.sk-toggleable__label-arrow:before {color: black;}#sk-container-id-1 div.sk-toggleable__content {max-height: 0;max-width: 0;overflow: hidden;text-align: left;background-color: #f0f8ff;}#sk-container-id-1 div.sk-toggleable__content pre {margin: 0.2em;color: black;border-radius: 0.25em;background-color: #f0f8ff;}#sk-container-id-1 input.sk-toggleable__control:checked~div.sk-toggleable__content {max-height: 200px;max-width: 100%;overflow: auto;}#sk-container-id-1 input.sk-toggleable__control:checked~label.sk-toggleable__label-arrow:before {content: \"▾\";}#sk-container-id-1 div.sk-estimator input.sk-toggleable__control:checked~label.sk-toggleable__label {background-color: #d4ebff;}#sk-container-id-1 div.sk-label input.sk-toggleable__control:checked~label.sk-toggleable__label {background-color: #d4ebff;}#sk-container-id-1 input.sk-hidden--visually {border: 0;clip: rect(1px 1px 1px 1px);clip: rect(1px, 1px, 1px, 1px);height: 1px;margin: -1px;overflow: hidden;padding: 0;position: absolute;width: 1px;}#sk-container-id-1 div.sk-estimator {font-family: monospace;background-color: #f0f8ff;border: 1px dotted black;border-radius: 0.25em;box-sizing: border-box;margin-bottom: 0.5em;}#sk-container-id-1 div.sk-estimator:hover {background-color: #d4ebff;}#sk-container-id-1 div.sk-parallel-item::after {content: \"\";width: 100%;border-bottom: 1px solid gray;flex-grow: 1;}#sk-container-id-1 div.sk-label:hover label.sk-toggleable__label {background-color: #d4ebff;}#sk-container-id-1 div.sk-serial::before {content: \"\";position: absolute;border-left: 1px solid gray;box-sizing: border-box;top: 0;bottom: 0;left: 50%;z-index: 0;}#sk-container-id-1 div.sk-serial {display: flex;flex-direction: column;align-items: center;background-color: white;padding-right: 0.2em;padding-left: 0.2em;position: relative;}#sk-container-id-1 div.sk-item {position: relative;z-index: 1;}#sk-container-id-1 div.sk-parallel {display: flex;align-items: stretch;justify-content: center;background-color: white;position: relative;}#sk-container-id-1 div.sk-item::before, #sk-container-id-1 div.sk-parallel-item::before {content: \"\";position: absolute;border-left: 1px solid gray;box-sizing: border-box;top: 0;bottom: 0;left: 50%;z-index: -1;}#sk-container-id-1 div.sk-parallel-item {display: flex;flex-direction: column;z-index: 1;position: relative;background-color: white;}#sk-container-id-1 div.sk-parallel-item:first-child::after {align-self: flex-end;width: 50%;}#sk-container-id-1 div.sk-parallel-item:last-child::after {align-self: flex-start;width: 50%;}#sk-container-id-1 div.sk-parallel-item:only-child::after {width: 0;}#sk-container-id-1 div.sk-dashed-wrapped {border: 1px dashed gray;margin: 0 0.4em 0.5em 0.4em;box-sizing: border-box;padding-bottom: 0.4em;background-color: white;}#sk-container-id-1 div.sk-label label {font-family: monospace;font-weight: bold;display: inline-block;line-height: 1.2em;}#sk-container-id-1 div.sk-label-container {text-align: center;}#sk-container-id-1 div.sk-container {/* jupyter's `normalize.less` sets `[hidden] { display: none; }` but bootstrap.min.css set `[hidden] { display: none !important; }` so we also need the `!important` here to be able to override the default hidden behavior on the sphinx rendered scikit-learn.org. See: https://github.com/scikit-learn/scikit-learn/issues/21755 */display: inline-block !important;position: relative;}#sk-container-id-1 div.sk-text-repr-fallback {display: none;}</style><div id=\"sk-container-id-1\" class=\"sk-top-container\"><div class=\"sk-text-repr-fallback\"><pre>SVC(random_state=1)</pre><b>In a Jupyter environment, please rerun this cell to show the HTML representation or trust the notebook. <br />On GitHub, the HTML representation is unable to render, please try loading this page with nbviewer.org.</b></div><div class=\"sk-container\" hidden><div class=\"sk-item\"><div class=\"sk-estimator sk-toggleable\"><input class=\"sk-toggleable__control sk-hidden--visually\" id=\"sk-estimator-id-1\" type=\"checkbox\" checked><label for=\"sk-estimator-id-1\" class=\"sk-toggleable__label sk-toggleable__label-arrow\">SVC</label><div class=\"sk-toggleable__content\"><pre>SVC(random_state=1)</pre></div></div></div></div></div>"
      ],
      "text/plain": [
       "SVC(random_state=1)"
      ]
     },
     "execution_count": 20,
     "metadata": {},
     "output_type": "execute_result"
    }
   ],
   "source": [
    "from sklearn.svm import SVC\n",
    "clf = SVC(random_state=1)\n",
    "clf.fit(X,y) # คำสั่ง train model ; fit()"
   ]
  },
  {
   "cell_type": "code",
   "execution_count": 21,
   "id": "6585aef4",
   "metadata": {
    "execution": {
     "iopub.execute_input": "2025-06-25T04:43:42.640849Z",
     "iopub.status.busy": "2025-06-25T04:43:42.640566Z",
     "iopub.status.idle": "2025-06-25T04:43:42.656499Z",
     "shell.execute_reply": "2025-06-25T04:43:42.655647Z"
    },
    "papermill": {
     "duration": 0.02637,
     "end_time": "2025-06-25T04:43:42.658050",
     "exception": false,
     "start_time": "2025-06-25T04:43:42.631680",
     "status": "completed"
    },
    "tags": []
   },
   "outputs": [],
   "source": [
    "yp = clf.predict(Xt) # ทำนาย แล้วเก็บไว้ใน yp"
   ]
  },
  {
   "cell_type": "code",
   "execution_count": 22,
   "id": "2a3eed2d",
   "metadata": {
    "execution": {
     "iopub.execute_input": "2025-06-25T04:43:42.675331Z",
     "iopub.status.busy": "2025-06-25T04:43:42.675033Z",
     "iopub.status.idle": "2025-06-25T04:43:42.680668Z",
     "shell.execute_reply": "2025-06-25T04:43:42.679806Z"
    },
    "papermill": {
     "duration": 0.015671,
     "end_time": "2025-06-25T04:43:42.681879",
     "exception": false,
     "start_time": "2025-06-25T04:43:42.666208",
     "status": "completed"
    },
    "tags": []
   },
   "outputs": [
    {
     "data": {
      "text/plain": [
       "0.9225806451612903"
      ]
     },
     "execution_count": 22,
     "metadata": {},
     "output_type": "execute_result"
    }
   ],
   "source": [
    "sum(yt==yp)/len(yt)  #วัดเปอร์เซ็นความแม่น %"
   ]
  },
  {
   "cell_type": "markdown",
   "id": "ddeb7f91",
   "metadata": {
    "papermill": {
     "duration": 0.007837,
     "end_time": "2025-06-25T04:43:42.698252",
     "exception": false,
     "start_time": "2025-06-25T04:43:42.690415",
     "status": "completed"
    },
    "tags": []
   },
   "source": [
    "#### Using **Hold-Out** for  1. calculate **Training Accuracy**"
   ]
  },
  {
   "cell_type": "code",
   "execution_count": 23,
   "id": "4d22579f",
   "metadata": {
    "execution": {
     "iopub.execute_input": "2025-06-25T04:43:42.715754Z",
     "iopub.status.busy": "2025-06-25T04:43:42.715453Z",
     "iopub.status.idle": "2025-06-25T04:43:42.721998Z",
     "shell.execute_reply": "2025-06-25T04:43:42.721314Z"
    },
    "papermill": {
     "duration": 0.016815,
     "end_time": "2025-06-25T04:43:42.723279",
     "exception": false,
     "start_time": "2025-06-25T04:43:42.706464",
     "status": "completed"
    },
    "tags": []
   },
   "outputs": [],
   "source": [
    "# Divide Train-Validation-Test // Hove out - Best Split แบ่งข้อมูลเป็น 80% ฝึก, 20% ทดสอบ\n",
    "\n",
    "from sklearn.model_selection import train_test_split\n",
    "X, Xt, y, yt = train_test_split(Xall, yall, test_size=0.2, random_state=0)\n",
    "X, Xv, y, yv = train_test_split(X, y, test_size=0.25, random_state=0)"
   ]
  },
  {
   "cell_type": "code",
   "execution_count": 24,
   "id": "be9d81b5",
   "metadata": {
    "execution": {
     "iopub.execute_input": "2025-06-25T04:43:42.741872Z",
     "iopub.status.busy": "2025-06-25T04:43:42.741561Z",
     "iopub.status.idle": "2025-06-25T04:43:42.747117Z",
     "shell.execute_reply": "2025-06-25T04:43:42.746325Z"
    },
    "papermill": {
     "duration": 0.016459,
     "end_time": "2025-06-25T04:43:42.748506",
     "exception": false,
     "start_time": "2025-06-25T04:43:42.732047",
     "status": "completed"
    },
    "tags": []
   },
   "outputs": [
    {
     "data": {
      "text/plain": [
       "[1485, 496, 496]"
      ]
     },
     "execution_count": 24,
     "metadata": {},
     "output_type": "execute_result"
    }
   ],
   "source": [
    "[len(y), len(yv), len(yt)]"
   ]
  },
  {
   "cell_type": "code",
   "execution_count": 25,
   "id": "a75f0dd7",
   "metadata": {
    "execution": {
     "iopub.execute_input": "2025-06-25T04:43:42.766836Z",
     "iopub.status.busy": "2025-06-25T04:43:42.766073Z",
     "iopub.status.idle": "2025-06-25T04:43:42.814117Z",
     "shell.execute_reply": "2025-06-25T04:43:42.813365Z"
    },
    "papermill": {
     "duration": 0.058342,
     "end_time": "2025-06-25T04:43:42.815465",
     "exception": false,
     "start_time": "2025-06-25T04:43:42.757123",
     "status": "completed"
    },
    "tags": []
   },
   "outputs": [
    {
     "data": {
      "text/plain": [
       "0.9435483870967742"
      ]
     },
     "execution_count": 25,
     "metadata": {},
     "output_type": "execute_result"
    }
   ],
   "source": [
    "from sklearn.svm import SVC\n",
    "clf = SVC(random_state=1)\n",
    "clf.fit(X,y)\n",
    "yp = clf.predict(Xv)\n",
    "sum(yv==yp)/len(yv)"
   ]
  },
  {
   "cell_type": "markdown",
   "id": "1581399b",
   "metadata": {
    "papermill": {
     "duration": 0.007918,
     "end_time": "2025-06-25T04:43:42.831731",
     "exception": false,
     "start_time": "2025-06-25T04:43:42.823813",
     "status": "completed"
    },
    "tags": []
   },
   "source": [
    "#### 2. Calculate **Test Accuracy**"
   ]
  },
  {
   "cell_type": "code",
   "execution_count": 26,
   "id": "a3216164",
   "metadata": {
    "execution": {
     "iopub.execute_input": "2025-06-25T04:43:42.850339Z",
     "iopub.status.busy": "2025-06-25T04:43:42.849972Z",
     "iopub.status.idle": "2025-06-25T04:43:42.895664Z",
     "shell.execute_reply": "2025-06-25T04:43:42.894796Z"
    },
    "papermill": {
     "duration": 0.056318,
     "end_time": "2025-06-25T04:43:42.897032",
     "exception": false,
     "start_time": "2025-06-25T04:43:42.840714",
     "status": "completed"
    },
    "tags": []
   },
   "outputs": [
    {
     "data": {
      "text/plain": [
       "0.9354838709677419"
      ]
     },
     "execution_count": 26,
     "metadata": {},
     "output_type": "execute_result"
    }
   ],
   "source": [
    "clf = SVC(random_state=1,C=1)\n",
    "clf.fit(X,y)\n",
    "yp = clf.predict(Xt)\n",
    "sum(yt==yp)/len(yt)"
   ]
  },
  {
   "cell_type": "markdown",
   "id": "b0c5827f",
   "metadata": {
    "papermill": {
     "duration": 0.008223,
     "end_time": "2025-06-25T04:43:42.913619",
     "exception": false,
     "start_time": "2025-06-25T04:43:42.905396",
     "status": "completed"
    },
    "tags": []
   },
   "source": [
    "#### Using **5CV** for  1. calculate **Training Accuracy**"
   ]
  },
  {
   "cell_type": "code",
   "execution_count": 27,
   "id": "c22ba09d",
   "metadata": {
    "execution": {
     "iopub.execute_input": "2025-06-25T04:43:42.931766Z",
     "iopub.status.busy": "2025-06-25T04:43:42.931463Z",
     "iopub.status.idle": "2025-06-25T04:43:42.937577Z",
     "shell.execute_reply": "2025-06-25T04:43:42.936678Z"
    },
    "papermill": {
     "duration": 0.016804,
     "end_time": "2025-06-25T04:43:42.938994",
     "exception": false,
     "start_time": "2025-06-25T04:43:42.922190",
     "status": "completed"
    },
    "tags": []
   },
   "outputs": [],
   "source": [
    "# Divide Train-Test\n",
    "from sklearn.model_selection import train_test_split\n",
    "X, Xt, y, yt = train_test_split(Xall, yall, test_size=0.25, random_state=0)"
   ]
  },
  {
   "cell_type": "code",
   "execution_count": 28,
   "id": "611f8f4a",
   "metadata": {
    "execution": {
     "iopub.execute_input": "2025-06-25T04:43:42.957436Z",
     "iopub.status.busy": "2025-06-25T04:43:42.956697Z",
     "iopub.status.idle": "2025-06-25T04:43:43.137082Z",
     "shell.execute_reply": "2025-06-25T04:43:43.136304Z"
    },
    "papermill": {
     "duration": 0.190952,
     "end_time": "2025-06-25T04:43:43.138450",
     "exception": false,
     "start_time": "2025-06-25T04:43:42.947498",
     "status": "completed"
    },
    "tags": []
   },
   "outputs": [
    {
     "data": {
      "text/plain": [
       "0.8589122240172321"
      ]
     },
     "execution_count": 28,
     "metadata": {},
     "output_type": "execute_result"
    }
   ],
   "source": [
    "from sklearn.model_selection import cross_val_predict\n",
    "from sklearn.tree import DecisionTreeClassifier\n",
    "clf = DecisionTreeClassifier(random_state=0)\n",
    "yp = cross_val_predict(clf, X, y, cv=5)\n",
    "sum(yp==y)/len(y) # Training Accuacy"
   ]
  },
  {
   "cell_type": "markdown",
   "id": "52ac3bbd",
   "metadata": {
    "papermill": {
     "duration": 0.00804,
     "end_time": "2025-06-25T04:43:43.155115",
     "exception": false,
     "start_time": "2025-06-25T04:43:43.147075",
     "status": "completed"
    },
    "tags": []
   },
   "source": [
    "#### 2. Calculate **Test Accuracy**"
   ]
  },
  {
   "cell_type": "code",
   "execution_count": 29,
   "id": "9aeab546",
   "metadata": {
    "execution": {
     "iopub.execute_input": "2025-06-25T04:43:43.173067Z",
     "iopub.status.busy": "2025-06-25T04:43:43.172790Z",
     "iopub.status.idle": "2025-06-25T04:43:43.182116Z",
     "shell.execute_reply": "2025-06-25T04:43:43.181459Z"
    },
    "papermill": {
     "duration": 0.019945,
     "end_time": "2025-06-25T04:43:43.183287",
     "exception": false,
     "start_time": "2025-06-25T04:43:43.163342",
     "status": "completed"
    },
    "tags": []
   },
   "outputs": [
    {
     "data": {
      "text/plain": [
       "0.853225806451613"
      ]
     },
     "execution_count": 29,
     "metadata": {},
     "output_type": "execute_result"
    }
   ],
   "source": [
    "clf =  DecisionTreeClassifier(random_state=0)\n",
    "clf.fit(X,y)\n",
    "yp = clf.predict(Xt)\n",
    "sum(yt==yp)/len(yt)"
   ]
  },
  {
   "cell_type": "markdown",
   "id": "efc2779a",
   "metadata": {
    "papermill": {
     "duration": 0.008106,
     "end_time": "2025-06-25T04:43:43.199975",
     "exception": false,
     "start_time": "2025-06-25T04:43:43.191869",
     "status": "completed"
    },
    "tags": []
   },
   "source": [
    "#### **Grid-Search** Tune Model using **Cross Validation**"
   ]
  },
  {
   "cell_type": "code",
   "execution_count": 30,
   "id": "4bbba7c0",
   "metadata": {
    "execution": {
     "iopub.execute_input": "2025-06-25T04:43:43.218562Z",
     "iopub.status.busy": "2025-06-25T04:43:43.217795Z",
     "iopub.status.idle": "2025-06-25T04:43:43.223212Z",
     "shell.execute_reply": "2025-06-25T04:43:43.222248Z"
    },
    "papermill": {
     "duration": 0.016446,
     "end_time": "2025-06-25T04:43:43.224724",
     "exception": false,
     "start_time": "2025-06-25T04:43:43.208278",
     "status": "completed"
    },
    "tags": []
   },
   "outputs": [],
   "source": [
    "# Divide Train-Test\n",
    "from sklearn.model_selection import train_test_split\n",
    "X, Xt, y, yt = train_test_split(Xall, yall, test_size=0.25, random_state=0)"
   ]
  },
  {
   "cell_type": "code",
   "execution_count": 31,
   "id": "4ada248b",
   "metadata": {
    "execution": {
     "iopub.execute_input": "2025-06-25T04:43:43.244974Z",
     "iopub.status.busy": "2025-06-25T04:43:43.244328Z",
     "iopub.status.idle": "2025-06-25T04:43:43.524637Z",
     "shell.execute_reply": "2025-06-25T04:43:43.523772Z"
    },
    "papermill": {
     "duration": 0.29246,
     "end_time": "2025-06-25T04:43:43.526219",
     "exception": false,
     "start_time": "2025-06-25T04:43:43.233759",
     "status": "completed"
    },
    "tags": []
   },
   "outputs": [
    {
     "data": {
      "text/plain": [
       "[0.9262271027430311, {'C': 1}]"
      ]
     },
     "execution_count": 31,
     "metadata": {},
     "output_type": "execute_result"
    }
   ],
   "source": [
    "# Training Accuracy\n",
    "from sklearn.model_selection import GridSearchCV\n",
    "from sklearn.svm import SVC\n",
    "\n",
    "params ={ 'C': [1,2,4,8] }\n",
    "clf = GridSearchCV( SVC(random_state =0), params, cv=2).fit(X,y)\n",
    "\n",
    "# Training Accuracy and Parameters\n",
    "[clf.best_score_, clf.best_params_]"
   ]
  },
  {
   "cell_type": "code",
   "execution_count": 32,
   "id": "15649fb3",
   "metadata": {
    "execution": {
     "iopub.execute_input": "2025-06-25T04:43:43.545954Z",
     "iopub.status.busy": "2025-06-25T04:43:43.545193Z",
     "iopub.status.idle": "2025-06-25T04:43:43.563323Z",
     "shell.execute_reply": "2025-06-25T04:43:43.562589Z"
    },
    "papermill": {
     "duration": 0.029795,
     "end_time": "2025-06-25T04:43:43.564810",
     "exception": false,
     "start_time": "2025-06-25T04:43:43.535015",
     "status": "completed"
    },
    "tags": []
   },
   "outputs": [
    {
     "data": {
      "text/plain": [
       "0.9225806451612903"
      ]
     },
     "execution_count": 32,
     "metadata": {},
     "output_type": "execute_result"
    }
   ],
   "source": [
    "# Test Accuracy\n",
    "yp = clf.best_estimator_.predict(Xt)\n",
    "sum(yp==yt)/len(yt)"
   ]
  },
  {
   "cell_type": "code",
   "execution_count": null,
   "id": "e0924821",
   "metadata": {
    "papermill": {
     "duration": 0.008786,
     "end_time": "2025-06-25T04:43:43.582487",
     "exception": false,
     "start_time": "2025-06-25T04:43:43.573701",
     "status": "completed"
    },
    "tags": []
   },
   "outputs": [],
   "source": []
  }
 ],
 "metadata": {
  "kaggle": {
   "accelerator": "none",
   "dataSources": [
    {
     "databundleVersionId": 12691451,
     "datasetId": 7474089,
     "sourceId": 12156348,
     "sourceType": "datasetVersion"
    }
   ],
   "dockerImageVersionId": 31040,
   "isGpuEnabled": false,
   "isInternetEnabled": true,
   "language": "python",
   "sourceType": "notebook"
  },
  "kernelspec": {
   "display_name": "Python 3",
   "language": "python",
   "name": "python3"
  },
  "language_info": {
   "codemirror_mode": {
    "name": "ipython",
    "version": 3
   },
   "file_extension": ".py",
   "mimetype": "text/x-python",
   "name": "python",
   "nbconvert_exporter": "python",
   "pygments_lexer": "ipython3",
   "version": "3.11.11"
  },
  "papermill": {
   "default_parameters": {},
   "duration": 10.601663,
   "end_time": "2025-06-25T04:43:44.211435",
   "environment_variables": {},
   "exception": null,
   "input_path": "__notebook__.ipynb",
   "output_path": "__notebook__.ipynb",
   "parameters": {},
   "start_time": "2025-06-25T04:43:33.609772",
   "version": "2.6.0"
  }
 },
 "nbformat": 4,
 "nbformat_minor": 5
}
